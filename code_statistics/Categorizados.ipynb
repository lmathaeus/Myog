{
 "cells": [
  {
   "cell_type": "code",
   "execution_count": 157,
   "metadata": {},
   "outputs": [
    {
     "data": {
      "text/html": [
       "        <script type=\"text/javascript\">\n",
       "        window.PlotlyConfig = {MathJaxConfig: 'local'};\n",
       "        if (window.MathJax) {MathJax.Hub.Config({SVG: {font: \"STIX-Web\"}});}\n",
       "        if (typeof require !== 'undefined') {\n",
       "        require.undef(\"plotly\");\n",
       "        requirejs.config({\n",
       "            paths: {\n",
       "                'plotly': ['https://cdn.plot.ly/plotly-latest.min']\n",
       "            }\n",
       "        });\n",
       "        require(['plotly'], function(Plotly) {\n",
       "            window._Plotly = Plotly;\n",
       "        });\n",
       "        }\n",
       "        </script>\n",
       "        "
      ]
     },
     "metadata": {},
     "output_type": "display_data"
    }
   ],
   "source": [
    "import pandas as pd\n",
    "import matplotlib.pyplot as plt\n",
    "import numpy as np\n",
    "from sklearn.cluster import KMeans\n",
    "import cufflinks as cf\n",
    "# Modo offline para rodar os graficos apenas na máquina e não na nuvem\n",
    "cf.go_offline()"
   ]
  },
  {
   "cell_type": "code",
   "execution_count": 155,
   "metadata": {},
   "outputs": [
    {
     "name": "stdout",
     "output_type": "stream",
     "text": [
      "Collecting cufflinks\n",
      "  Downloading https://files.pythonhosted.org/packages/1a/18/4d32edaaf31ba4af9745dac676c4a28c48d3fc539000c29e855bd8db3b86/cufflinks-0.17.3.tar.gz (81kB)\n",
      "\u001b[K    100% |████████████████████████████████| 81kB 622kB/s ta 0:00:01\n",
      "\u001b[?25hRequirement already satisfied: numpy>=1.9.2 in /home/clayton/anaconda3/lib/python3.6/site-packages (from cufflinks)\n",
      "Requirement already satisfied: pandas>=0.19.2 in /home/clayton/anaconda3/lib/python3.6/site-packages (from cufflinks)\n",
      "Requirement already satisfied: plotly>=4.1.1 in /home/clayton/anaconda3/lib/python3.6/site-packages (from cufflinks)\n",
      "Requirement already satisfied: six>=1.9.0 in /home/clayton/anaconda3/lib/python3.6/site-packages (from cufflinks)\n",
      "Collecting colorlover>=0.2.1 (from cufflinks)\n",
      "  Downloading https://files.pythonhosted.org/packages/9a/53/f696e4480b1d1de3b1523991dea71cf417c8b19fe70c704da164f3f90972/colorlover-0.3.0-py3-none-any.whl\n",
      "Requirement already satisfied: setuptools>=34.4.1 in /home/clayton/anaconda3/lib/python3.6/site-packages (from cufflinks)\n",
      "Requirement already satisfied: ipython>=5.3.0 in /home/clayton/anaconda3/lib/python3.6/site-packages (from cufflinks)\n",
      "Requirement already satisfied: ipywidgets>=7.0.0 in /home/clayton/anaconda3/lib/python3.6/site-packages (from cufflinks)\n",
      "Requirement already satisfied: pytz>=2017.2 in /home/clayton/anaconda3/lib/python3.6/site-packages (from pandas>=0.19.2->cufflinks)\n",
      "Requirement already satisfied: python-dateutil>=2.6.1 in /home/clayton/anaconda3/lib/python3.6/site-packages (from pandas>=0.19.2->cufflinks)\n",
      "Requirement already satisfied: retrying>=1.3.3 in /home/clayton/anaconda3/lib/python3.6/site-packages (from plotly>=4.1.1->cufflinks)\n",
      "Requirement already satisfied: jedi>=0.10 in /home/clayton/anaconda3/lib/python3.6/site-packages (from ipython>=5.3.0->cufflinks)\n",
      "Requirement already satisfied: decorator in /home/clayton/anaconda3/lib/python3.6/site-packages (from ipython>=5.3.0->cufflinks)\n",
      "Requirement already satisfied: pickleshare in /home/clayton/anaconda3/lib/python3.6/site-packages (from ipython>=5.3.0->cufflinks)\n",
      "Requirement already satisfied: simplegeneric>0.8 in /home/clayton/anaconda3/lib/python3.6/site-packages (from ipython>=5.3.0->cufflinks)\n",
      "Requirement already satisfied: traitlets>=4.2 in /home/clayton/anaconda3/lib/python3.6/site-packages (from ipython>=5.3.0->cufflinks)\n",
      "Requirement already satisfied: prompt_toolkit<2.0.0,>=1.0.4 in /home/clayton/anaconda3/lib/python3.6/site-packages (from ipython>=5.3.0->cufflinks)\n",
      "Requirement already satisfied: pygments in /home/clayton/anaconda3/lib/python3.6/site-packages (from ipython>=5.3.0->cufflinks)\n",
      "Requirement already satisfied: pexpect in /home/clayton/anaconda3/lib/python3.6/site-packages (from ipython>=5.3.0->cufflinks)\n",
      "Requirement already satisfied: ipykernel>=4.5.1 in /home/clayton/anaconda3/lib/python3.6/site-packages (from ipywidgets>=7.0.0->cufflinks)\n",
      "Requirement already satisfied: nbformat>=4.2.0 in /home/clayton/anaconda3/lib/python3.6/site-packages (from ipywidgets>=7.0.0->cufflinks)\n",
      "Requirement already satisfied: widgetsnbextension~=3.0.0 in /home/clayton/anaconda3/lib/python3.6/site-packages (from ipywidgets>=7.0.0->cufflinks)\n",
      "Requirement already satisfied: ipython_genutils in /home/clayton/anaconda3/lib/python3.6/site-packages (from traitlets>=4.2->ipython>=5.3.0->cufflinks)\n",
      "Requirement already satisfied: wcwidth in /home/clayton/anaconda3/lib/python3.6/site-packages (from prompt_toolkit<2.0.0,>=1.0.4->ipython>=5.3.0->cufflinks)\n",
      "Requirement already satisfied: jupyter_client in /home/clayton/anaconda3/lib/python3.6/site-packages (from ipykernel>=4.5.1->ipywidgets>=7.0.0->cufflinks)\n",
      "Requirement already satisfied: tornado>=4.0 in /home/clayton/anaconda3/lib/python3.6/site-packages (from ipykernel>=4.5.1->ipywidgets>=7.0.0->cufflinks)\n",
      "Requirement already satisfied: jsonschema!=2.5.0,>=2.4 in /home/clayton/anaconda3/lib/python3.6/site-packages (from nbformat>=4.2.0->ipywidgets>=7.0.0->cufflinks)\n",
      "Requirement already satisfied: jupyter_core in /home/clayton/anaconda3/lib/python3.6/site-packages (from nbformat>=4.2.0->ipywidgets>=7.0.0->cufflinks)\n",
      "Requirement already satisfied: notebook>=4.4.1 in /home/clayton/anaconda3/lib/python3.6/site-packages (from widgetsnbextension~=3.0.0->ipywidgets>=7.0.0->cufflinks)\n",
      "Requirement already satisfied: pyzmq>=13 in /home/clayton/anaconda3/lib/python3.6/site-packages (from jupyter_client->ipykernel>=4.5.1->ipywidgets>=7.0.0->cufflinks)\n",
      "Building wheels for collected packages: cufflinks\n",
      "  Running setup.py bdist_wheel for cufflinks ... \u001b[?25ldone\n",
      "\u001b[?25h  Stored in directory: /home/clayton/.cache/pip/wheels/7d/ba/8d/38b672c3e40d8bd22dd60b8e6e29965b43f2b4be4d064e44d5\n",
      "Successfully built cufflinks\n",
      "Installing collected packages: colorlover, cufflinks\n",
      "Successfully installed colorlover-0.3.0 cufflinks-0.17.3\n"
     ]
    }
   ],
   "source": [
    "! pip install cufflinks"
   ]
  },
  {
   "cell_type": "code",
   "execution_count": 110,
   "metadata": {},
   "outputs": [
    {
     "data": {
      "text/html": [
       "<div>\n",
       "<style scoped>\n",
       "    .dataframe tbody tr th:only-of-type {\n",
       "        vertical-align: middle;\n",
       "    }\n",
       "\n",
       "    .dataframe tbody tr th {\n",
       "        vertical-align: top;\n",
       "    }\n",
       "\n",
       "    .dataframe thead th {\n",
       "        text-align: right;\n",
       "    }\n",
       "</style>\n",
       "<table border=\"1\" class=\"dataframe\">\n",
       "  <thead>\n",
       "    <tr style=\"text-align: right;\">\n",
       "      <th></th>\n",
       "      <th>order_id</th>\n",
       "      <th>customer_id</th>\n",
       "      <th>int_itens_comp</th>\n",
       "      <th>product_name</th>\n",
       "      <th>child_category_id</th>\n",
       "      <th>child_category_name</th>\n",
       "      <th>parent_category_id</th>\n",
       "      <th>parent_category_name</th>\n",
       "    </tr>\n",
       "  </thead>\n",
       "  <tbody>\n",
       "    <tr>\n",
       "      <th>0</th>\n",
       "      <td>11260</td>\n",
       "      <td>7927</td>\n",
       "      <td>2313</td>\n",
       "      <td>Farinha de Trigo Tipo 1 Famiglia Venturelli Pa...</td>\n",
       "      <td>482</td>\n",
       "      <td>Farinha de Trigo</td>\n",
       "      <td>214</td>\n",
       "      <td>Pai - Mercearia Básica</td>\n",
       "    </tr>\n",
       "    <tr>\n",
       "      <th>1</th>\n",
       "      <td>4270</td>\n",
       "      <td>7927</td>\n",
       "      <td>5174</td>\n",
       "      <td>Suco Concentrado Uva Dafruta Garrafa 500ml</td>\n",
       "      <td>181</td>\n",
       "      <td>Suco</td>\n",
       "      <td>180</td>\n",
       "      <td>Pai - Bebidas Não Alcoólicas</td>\n",
       "    </tr>\n",
       "    <tr>\n",
       "      <th>2</th>\n",
       "      <td>4270</td>\n",
       "      <td>7927</td>\n",
       "      <td>5174</td>\n",
       "      <td>Suco Concentrado Uva Dafruta Garrafa 500ml</td>\n",
       "      <td>181</td>\n",
       "      <td>Suco</td>\n",
       "      <td>180</td>\n",
       "      <td>Pai - Bebidas Não Alcoólicas</td>\n",
       "    </tr>\n",
       "    <tr>\n",
       "      <th>3</th>\n",
       "      <td>7471</td>\n",
       "      <td>7927</td>\n",
       "      <td>1036</td>\n",
       "      <td>Café Torrado e Moído a Vácuo 3 Corações Estrad...</td>\n",
       "      <td>303</td>\n",
       "      <td>Café</td>\n",
       "      <td>214</td>\n",
       "      <td>Pai - Mercearia Básica</td>\n",
       "    </tr>\n",
       "    <tr>\n",
       "      <th>4</th>\n",
       "      <td>4270</td>\n",
       "      <td>7927</td>\n",
       "      <td>4785</td>\n",
       "      <td>Sabonete em Barra Creme e Flor de Peônia Dove ...</td>\n",
       "      <td>195</td>\n",
       "      <td>Sabonete em Barra</td>\n",
       "      <td>182</td>\n",
       "      <td>Pai - HPC</td>\n",
       "    </tr>\n",
       "    <tr>\n",
       "      <th>5</th>\n",
       "      <td>5434</td>\n",
       "      <td>7927</td>\n",
       "      <td>5391</td>\n",
       "      <td>Tomate Pelado em Cubos La Pastina Lata 240g</td>\n",
       "      <td>239</td>\n",
       "      <td>Tomate Pelado</td>\n",
       "      <td>216</td>\n",
       "      <td>Pai- Mercearia Complementar</td>\n",
       "    </tr>\n",
       "    <tr>\n",
       "      <th>6</th>\n",
       "      <td>9991</td>\n",
       "      <td>7927</td>\n",
       "      <td>5391</td>\n",
       "      <td>Tomate Pelado em Cubos La Pastina Lata 240g</td>\n",
       "      <td>239</td>\n",
       "      <td>Tomate Pelado</td>\n",
       "      <td>216</td>\n",
       "      <td>Pai- Mercearia Complementar</td>\n",
       "    </tr>\n",
       "    <tr>\n",
       "      <th>7</th>\n",
       "      <td>5434</td>\n",
       "      <td>7927</td>\n",
       "      <td>5391</td>\n",
       "      <td>Tomate Pelado em Cubos La Pastina Lata 240g</td>\n",
       "      <td>239</td>\n",
       "      <td>Tomate Pelado</td>\n",
       "      <td>216</td>\n",
       "      <td>Pai- Mercearia Complementar</td>\n",
       "    </tr>\n",
       "    <tr>\n",
       "      <th>8</th>\n",
       "      <td>5434</td>\n",
       "      <td>7927</td>\n",
       "      <td>5391</td>\n",
       "      <td>Tomate Pelado La Pastina Lata 240g</td>\n",
       "      <td>239</td>\n",
       "      <td>Tomate Pelado</td>\n",
       "      <td>216</td>\n",
       "      <td>Pai- Mercearia Complementar</td>\n",
       "    </tr>\n",
       "    <tr>\n",
       "      <th>9</th>\n",
       "      <td>9991</td>\n",
       "      <td>7927</td>\n",
       "      <td>5391</td>\n",
       "      <td>Tomate Pelado La Pastina Lata 240g</td>\n",
       "      <td>239</td>\n",
       "      <td>Tomate Pelado</td>\n",
       "      <td>216</td>\n",
       "      <td>Pai- Mercearia Complementar</td>\n",
       "    </tr>\n",
       "  </tbody>\n",
       "</table>\n",
       "</div>"
      ],
      "text/plain": [
       "   order_id  customer_id  int_itens_comp  \\\n",
       "0     11260         7927            2313   \n",
       "1      4270         7927            5174   \n",
       "2      4270         7927            5174   \n",
       "3      7471         7927            1036   \n",
       "4      4270         7927            4785   \n",
       "5      5434         7927            5391   \n",
       "6      9991         7927            5391   \n",
       "7      5434         7927            5391   \n",
       "8      5434         7927            5391   \n",
       "9      9991         7927            5391   \n",
       "\n",
       "                                        product_name  child_category_id  \\\n",
       "0  Farinha de Trigo Tipo 1 Famiglia Venturelli Pa...                482   \n",
       "1         Suco Concentrado Uva Dafruta Garrafa 500ml                181   \n",
       "2         Suco Concentrado Uva Dafruta Garrafa 500ml                181   \n",
       "3  Café Torrado e Moído a Vácuo 3 Corações Estrad...                303   \n",
       "4  Sabonete em Barra Creme e Flor de Peônia Dove ...                195   \n",
       "5        Tomate Pelado em Cubos La Pastina Lata 240g                239   \n",
       "6        Tomate Pelado em Cubos La Pastina Lata 240g                239   \n",
       "7        Tomate Pelado em Cubos La Pastina Lata 240g                239   \n",
       "8                 Tomate Pelado La Pastina Lata 240g                239   \n",
       "9                 Tomate Pelado La Pastina Lata 240g                239   \n",
       "\n",
       "  child_category_name  parent_category_id          parent_category_name  \n",
       "0    Farinha de Trigo                 214        Pai - Mercearia Básica  \n",
       "1                Suco                 180  Pai - Bebidas Não Alcoólicas  \n",
       "2                Suco                 180  Pai - Bebidas Não Alcoólicas  \n",
       "3                Café                 214        Pai - Mercearia Básica  \n",
       "4   Sabonete em Barra                 182                     Pai - HPC  \n",
       "5       Tomate Pelado                 216   Pai- Mercearia Complementar  \n",
       "6       Tomate Pelado                 216   Pai- Mercearia Complementar  \n",
       "7       Tomate Pelado                 216   Pai- Mercearia Complementar  \n",
       "8       Tomate Pelado                 216   Pai- Mercearia Complementar  \n",
       "9       Tomate Pelado                 216   Pai- Mercearia Complementar  "
      ]
     },
     "execution_count": 110,
     "metadata": {},
     "output_type": "execute_result"
    }
   ],
   "source": [
    "df = pd.read_csv('../data/barcode.csv', sep=',')\n",
    "df.head(10)"
   ]
  },
  {
   "cell_type": "code",
   "execution_count": 112,
   "metadata": {},
   "outputs": [
    {
     "data": {
      "image/png": "[encoded data removed]",
      "text/plain": [
       "<Figure size 1080x1296 with 6 Axes>"
      ]
     },
     "metadata": {},
     "output_type": "display_data"
    }
   ],
   "source": [
    "#Verificar distribuição dos dados\n",
    "df.hist(figsize=(15,18))\n",
    "\n",
    "plt.tight_layout()\n",
    "plt.show()"
   ]
  },
  {
   "cell_type": "code",
   "execution_count": 113,
   "metadata": {},
   "outputs": [
    {
     "data": {
      "image/png": "[encoded data removed]",
      "text/plain": [
       "<Figure size 1080x576 with 1 Axes>"
      ]
     },
     "metadata": {},
     "output_type": "display_data"
    }
   ],
   "source": [
    "pai = df.parent_category_name.value_counts().plot(kind='barh',figsize=(15,8))\n",
    "plt.show(pai)"
   ]
  },
  {
   "cell_type": "code",
   "execution_count": 115,
   "metadata": {},
   "outputs": [
    {
     "data": {
      "text/plain": [
       "Pai- Mercearia Complementar     82782\n",
       "Pai - Mercearia Básica          80435\n",
       "Pai - HPC                       76372\n",
       "Pai - Bebidas Não Alcoólicas    61084\n",
       "Pai - Limpeza / Descartáveis    38999\n",
       "Pai - Perecíveis                29060\n",
       "Pai - Bazar                      2987\n",
       "Pai - Bebidas Alcoólicas         1139\n",
       "Pai-Hortifruti                    120\n",
       "Pai - Têxtil                        1\n",
       "Name: parent_category_name, dtype: int64"
      ]
     },
     "execution_count": 115,
     "metadata": {},
     "output_type": "execute_result"
    }
   ],
   "source": [
    "# Quantidade de clusteres por categoria Pai\n",
    "\n",
    "df.parent_category_name.value_counts()"
   ]
  },
  {
   "cell_type": "code",
   "execution_count": 116,
   "metadata": {},
   "outputs": [
    {
     "data": {
      "text/plain": [
       "Suco                      56091\n",
       "Sabonete em Barra         45254\n",
       "Macarrão de Sêmola        32598\n",
       "Macarrão Instantâneo      18825\n",
       "Molho de Tomate           12832\n",
       "                          ...  \n",
       "Mingau                        1\n",
       "Lixeira com Pedal             1\n",
       "Porta-Sabão em Pó             1\n",
       "Prato Pronto                  1\n",
       "Revitalizador de Couro        1\n",
       "Name: child_category_name, Length: 346, dtype: int64"
      ]
     },
     "execution_count": 116,
     "metadata": {},
     "output_type": "execute_result"
    }
   ],
   "source": [
    "# Quantidade de clusteres por categoria Filho\n",
    "\n",
    "df.child_category_name.value_counts()"
   ]
  },
  {
   "cell_type": "markdown",
   "metadata": {},
   "source": [
    "## Filtrando os dados por categorias\n",
    "\n",
    "    - Podemos observar que temos produtos com apenas uma compra realizada"
   ]
  },
  {
   "cell_type": "code",
   "execution_count": 131,
   "metadata": {},
   "outputs": [
    {
     "data": {
      "text/plain": [
       "customer_id\n",
       "7927     Farinha de Trigo Tipo 1 Famiglia Venturelli Pa...\n",
       "7952     Guardanapo de Papel Folha Simples Sorella 22cm...\n",
       "8037     Sorvete Abacaxi Jundiá Pote 2lMacarrão de Sêmo...\n",
       "8079     Leite UHT Integral Jussara Caixa 1lLeite UHT D...\n",
       "8086     Refresco em Pó Goiaba Tang Pacote 25gTorrada T...\n",
       "                               ...                        \n",
       "61625    Creme Dental Hortelã Colgate Tripla Ação Caixa...\n",
       "61631    Sabonete em Barra Hidratante Lavanda & Óleos N...\n",
       "61640    Toalha Umedecida Huggies Supreme Care 19,3cm x...\n",
       "61643    Sabonete em Barra Glicerinado Flor de Lótus Lu...\n",
       "61661    Multi Inseticida Aerossol SBP Frasco 450ml Grá...\n",
       "Name: product_name, Length: 922, dtype: object"
      ]
     },
     "execution_count": 131,
     "metadata": {},
     "output_type": "execute_result"
    }
   ],
   "source": [
    "# quantidade de ítens comprados por name\n",
    "grup = df.groupby(by='customer_id').product_name.sum()\n",
    "grup"
   ]
  },
  {
   "cell_type": "code",
   "execution_count": 125,
   "metadata": {},
   "outputs": [
    {
     "data": {
      "text/html": [
       "<div>\n",
       "<style scoped>\n",
       "    .dataframe tbody tr th:only-of-type {\n",
       "        vertical-align: middle;\n",
       "    }\n",
       "\n",
       "    .dataframe tbody tr th {\n",
       "        vertical-align: top;\n",
       "    }\n",
       "\n",
       "    .dataframe thead th {\n",
       "        text-align: right;\n",
       "    }\n",
       "</style>\n",
       "<table border=\"1\" class=\"dataframe\">\n",
       "  <thead>\n",
       "    <tr style=\"text-align: right;\">\n",
       "      <th></th>\n",
       "      <th>product_name</th>\n",
       "    </tr>\n",
       "    <tr>\n",
       "      <th>customer_id</th>\n",
       "      <th></th>\n",
       "    </tr>\n",
       "  </thead>\n",
       "  <tbody>\n",
       "    <tr>\n",
       "      <th>7927</th>\n",
       "      <td>378</td>\n",
       "    </tr>\n",
       "    <tr>\n",
       "      <th>7952</th>\n",
       "      <td>52</td>\n",
       "    </tr>\n",
       "    <tr>\n",
       "      <th>8037</th>\n",
       "      <td>41</td>\n",
       "    </tr>\n",
       "    <tr>\n",
       "      <th>8079</th>\n",
       "      <td>3</td>\n",
       "    </tr>\n",
       "    <tr>\n",
       "      <th>8086</th>\n",
       "      <td>1752</td>\n",
       "    </tr>\n",
       "    <tr>\n",
       "      <th>...</th>\n",
       "      <td>...</td>\n",
       "    </tr>\n",
       "    <tr>\n",
       "      <th>61625</th>\n",
       "      <td>3154</td>\n",
       "    </tr>\n",
       "    <tr>\n",
       "      <th>61631</th>\n",
       "      <td>794</td>\n",
       "    </tr>\n",
       "    <tr>\n",
       "      <th>61640</th>\n",
       "      <td>149</td>\n",
       "    </tr>\n",
       "    <tr>\n",
       "      <th>61643</th>\n",
       "      <td>449</td>\n",
       "    </tr>\n",
       "    <tr>\n",
       "      <th>61661</th>\n",
       "      <td>87</td>\n",
       "    </tr>\n",
       "  </tbody>\n",
       "</table>\n",
       "<p>922 rows × 1 columns</p>\n",
       "</div>"
      ],
      "text/plain": [
       "             product_name\n",
       "customer_id              \n",
       "7927                  378\n",
       "7952                   52\n",
       "8037                   41\n",
       "8079                    3\n",
       "8086                 1752\n",
       "...                   ...\n",
       "61625                3154\n",
       "61631                 794\n",
       "61640                 149\n",
       "61643                 449\n",
       "61661                  87\n",
       "\n",
       "[922 rows x 1 columns]"
      ]
     },
     "execution_count": 125,
     "metadata": {},
     "output_type": "execute_result"
    }
   ],
   "source": [
    "# quantidade de ítens comprados por id\n",
    "df2 = df.groupby(['customer_id']).agg({'product_name': np.size})\n",
    "df2"
   ]
  },
  {
   "cell_type": "code",
   "execution_count": 142,
   "metadata": {},
   "outputs": [
    {
     "data": {
      "text/plain": [
       "child_category_name\n",
       "0101 - CERVEJAS                   34\n",
       "Abacaxi em Calda                   4\n",
       "Absorvente Higiênico             831\n",
       "Achocolatado em Pó               390\n",
       "Adesivo Instantâneo               47\n",
       "Adestrador Uso Veterinário         3\n",
       "Aditivo para Carro                 3\n",
       "Adoçante                         435\n",
       "Aguardente                         6\n",
       "Aipim/Mandioca                     2\n",
       "Alimento Úmido para Cães         136\n",
       "Alimento Úmido para Gatos         24\n",
       "Alvejante                        193\n",
       "Amaciante de Roupa              1580\n",
       "Amendoim                         159\n",
       "Amido                            143\n",
       "Ampola de Tratamento              37\n",
       "Aparelho e Lâmina de Barbear    1149\n",
       "Aparelho e Lâmina de Depilar      87\n",
       "Aperitivo Bebida                   3\n",
       "Name: product_name, dtype: int64"
      ]
     },
     "execution_count": 142,
     "metadata": {},
     "output_type": "execute_result"
    }
   ],
   "source": [
    "# Contagem de produtos por categoria\n",
    "\n",
    "vendas_categoria = df.groupby(by='child_category_name').product_name.count()\n",
    "vendas_categoria.head(20)"
   ]
  },
  {
   "cell_type": "code",
   "execution_count": 175,
   "metadata": {},
   "outputs": [
    {
     "name": "stdout",
     "output_type": "stream",
     "text": [
      "Produtos menos vendidos:\n",
      " child_category_name\n",
      "Nata                               9\n",
      "Polidor de Sapato                  9\n",
      "Prendedor de Roupa                 9\n",
      "Cola Multiuso                      9\n",
      "Queijo Brie                        9\n",
      "Whisky                             9\n",
      "Tempero em Pó e Granulado          9\n",
      "Caneca                             8\n",
      "Forma para Gelo                    8\n",
      "Hidratante/Loção Infantil          8\n",
      "Condicionador Uso Veterinário      8\n",
      "Prato                              8\n",
      "Doce de Leite Tablete e Bolinha    8\n",
      "Patê                               8\n",
      "Açúcar Mascavo                     8\n",
      "Mix de Legumes e Vegetais          7\n",
      "Rodo                               7\n",
      "Queijo Gouda                       7\n",
      "Vodka                              7\n",
      "Aguardente                         6\n",
      "Porta-Detergente                   6\n",
      "Feijão Pronto                      6\n",
      "Funil                              6\n",
      "Escorredor de Talher               6\n",
      "Kit Feijoada                       6\n",
      "Limpa Forno                        6\n",
      "Carne Suína                        6\n",
      "Rum                                6\n",
      "Limpeza Automotiva                 6\n",
      "Name: product_name, dtype: int64\n"
     ]
    }
   ],
   "source": [
    "prod_menos = vendas_categoria.loc[vendas_categoria.values < 20]\n",
    "print('Produtos menos vendidos:\\n', prod_menos )"
   ]
  },
  {
   "cell_type": "code",
   "execution_count": 178,
   "metadata": {},
   "outputs": [
    {
     "name": "stdout",
     "output_type": "stream",
     "text": [
      "Produtos mais vendidos:\n",
      " child_category_name\n",
      "Suco                            56091\n",
      "Sabonete em Barra               45254\n",
      "Macarrão de Sêmola              32598\n",
      "Macarrão Instantâneo            18825\n",
      "Molho de Tomate                 12832\n",
      "                                ...  \n",
      "Odorizador de Ambiente/Roupa      357\n",
      "Água de Coco                      354\n",
      "Leite de Coco                     315\n",
      "Desodorante para Pés              312\n",
      "Massa Fresca                      310\n",
      "Name: product_name, Length: 96, dtype: int64\n"
     ]
    }
   ],
   "source": [
    "prod_mais = vendas_categoria.loc[vendas_categoria.values > 300]\n",
    "print('Produtos mais vendidos:\\n', prod_mais)"
   ]
  },
  {
   "cell_type": "code",
   "execution_count": 171,
   "metadata": {},
   "outputs": [
    {
     "data": {
      "text/plain": [
       "child_category_name\n",
       "Suco                    56091\n",
       "Sabonete em Barra       45254\n",
       "Macarrão de Sêmola      32598\n",
       "Macarrão Instantâneo    18825\n",
       "Molho de Tomate         12832\n",
       "                        ...  \n",
       "Kit Feijoada                6\n",
       "Limpa Forno                 6\n",
       "Carne Suína                 6\n",
       "Rum                         6\n",
       "Limpeza Automotiva          6\n",
       "Name: product_name, Length: 263, dtype: int64"
      ]
     },
     "execution_count": 171,
     "metadata": {},
     "output_type": "execute_result"
    }
   ],
   "source": [
    "# Filtrando a categoria com quantidade de vendas > 5\n",
    "vendas_categoria = vendas_categoria.loc[vendas_categoria.values > 5]\n",
    " \n",
    "# Ordena do maior para o menor\n",
    "vendas_categoria.sort_values(ascending=False, inplace=True)\n",
    "vendas_categoria"
   ]
  },
  {
   "cell_type": "code",
   "execution_count": 152,
   "metadata": {
    "collapsed": true
   },
   "outputs": [],
   "source": [
    "# Plotando os dados de produtos com suas categorias.\n",
    "import plotly.offline as py\n",
    "import plotly.graph_objs as go"
   ]
  },
  {
   "cell_type": "code",
   "execution_count": 179,
   "metadata": {},
   "outputs": [
    {
     "data": {
      "application/vnd.plotly.v1+json": {
       "config": {
        "linkText": "Export to plot.ly",
        "plotlyServerURL": "https://plot.ly",
        "showLink": false
       },
       "data": [
        {
         "marker": {
          "color": "#00FF2A"
         },
         "orientation": "v",
         "type": "bar",
         "x": [
          "Suco",
          "Sabonete em Barra",
          "Macarrão de Sêmola",
          "Macarrão Instantâneo",
          "Molho de Tomate",
          "Leite Tradicional",
          "Creme Dental",
          "Café",
          "Detergente de Louça",
          "Limpador Multiuso",
          "Biscoito Doce Recheado",
          "Biscoito Recheado",
          "Chocolate em Barra",
          "Shampoo",
          "Iogurte",
          "Desodorante Aerossol",
          "Sabão em Pó",
          "Papel Higiênico",
          "Creme de Leite",
          "Goma de Mascar",
          "Maionese",
          "Biscoito Doce",
          "Conserva",
          "Sardinha em Conserva",
          "Biscoito Salgado",
          "Bebida Láctea Fermentada",
          "Salgadinho",
          "Refrigerante",
          "Sorvete",
          "Wafer",
          "Desodorante Roll-On",
          "Bolo",
          "Torrada",
          "Condicionador",
          "Requeijão",
          "Desinfetante",
          "Óleo de Soja",
          "Farinha de Trigo",
          "Bebida Láctea",
          "Pão",
          "Amaciante de Roupa",
          "Tempero em Tablete",
          "Leite Condensado",
          "Leite Fermentado",
          "Toalha de Papel",
          "Água Sanitária",
          "Açúcar Refinado",
          "Manteiga",
          "Inseticida",
          "Aparelho e Lâmina de Barbear",
          "Mistura para Bolo",
          "Margarina",
          "Gelatina",
          "Energético",
          "Queijo Ralado",
          "Esponja de Aço",
          "Sobremesa Láctea",
          "Extrato de Tomate",
          "Pão de Alho",
          "Azeite de Oliva",
          "Guardanapo de Papel",
          "Chá",
          "Atum em Conserva",
          "Filtro de Café",
          "Fralda Descartável Infantil",
          "Absorvente Higiênico",
          "Coco Ralado",
          "Ketchup",
          "Snack",
          "Bombom",
          "Creme de Queijo",
          "Sabonete Líquido",
          "Desodorizador Sanitário",
          "Cerveja",
          "Petit Suisse",
          "Sabão Líquido",
          "Sabonete em Barra Infantil",
          "Macarrão com Ovos",
          "Bebida de Fruta/Mista",
          "Pão Bisnaguinha",
          "Creme para Pentear",
          "Detergente Multiuso",
          "Adoçante",
          "Biscoito Cookie",
          "Cappuccino",
          "Achocolatado em Pó",
          "Lasanha Pronta",
          "Doce de Leite",
          "Esponja Multiuso",
          "Palito de Dente",
          "Fósforo",
          "Odorizador de Ambiente/Roupa",
          "Água de Coco",
          "Leite de Coco",
          "Desodorante para Pés",
          "Massa Fresca"
         ],
         "y": [
          56091,
          45254,
          32598,
          18825,
          12832,
          12188,
          10500,
          8731,
          8236,
          7905,
          7841,
          7841,
          6983,
          6356,
          5359,
          5089,
          4550,
          4143,
          4032,
          3756,
          3664,
          3378,
          3362,
          3307,
          3252,
          3075,
          2943,
          2640,
          2571,
          2286,
          2109,
          2017,
          1994,
          1954,
          1855,
          1829,
          1797,
          1763,
          1759,
          1731,
          1580,
          1476,
          1418,
          1320,
          1319,
          1309,
          1289,
          1233,
          1157,
          1149,
          1141,
          1044,
          1027,
          1014,
          994,
          988,
          978,
          965,
          944,
          902,
          887,
          863,
          859,
          834,
          832,
          831,
          767,
          750,
          727,
          711,
          634,
          632,
          629,
          629,
          574,
          524,
          503,
          492,
          473,
          470,
          466,
          436,
          435,
          429,
          420,
          390,
          384,
          381,
          373,
          363,
          359,
          357,
          354,
          315,
          312,
          310
         ]
        }
       ],
       "layout": {
        "template": {
         "data": {
          "bar": [
           {
            "error_x": {
             "color": "#2a3f5f"
            },
            "error_y": {
             "color": "#2a3f5f"
            },
            "marker": {
             "line": {
              "color": "#E5ECF6",
              "width": 0.5
             }
            },
            "type": "bar"
           }
          ],
          "barpolar": [
           {
            "marker": {
             "line": {
              "color": "#E5ECF6",
              "width": 0.5
             }
            },
            "type": "barpolar"
           }
          ],
          "carpet": [
           {
            "aaxis": {
             "endlinecolor": "#2a3f5f",
             "gridcolor": "white",
             "linecolor": "white",
             "minorgridcolor": "white",
             "startlinecolor": "#2a3f5f"
            },
            "baxis": {
             "endlinecolor": "#2a3f5f",
             "gridcolor": "white",
             "linecolor": "white",
             "minorgridcolor": "white",
             "startlinecolor": "#2a3f5f"
            },
            "type": "carpet"
           }
          ],
          "choropleth": [
           {
            "colorbar": {
             "outlinewidth": 0,
             "ticks": ""
            },
            "type": "choropleth"
           }
          ],
          "contour": [
           {
            "colorbar": {
             "outlinewidth": 0,
             "ticks": ""
            },
            "colorscale": [
             [
              0,
              "#0d0887"
             ],
             [
              0.1111111111111111,
              "#46039f"
             ],
             [
              0.2222222222222222,
              "#7201a8"
             ],
             [
              0.3333333333333333,
              "#9c179e"
             ],
             [
              0.4444444444444444,
              "#bd3786"
             ],
             [
              0.5555555555555556,
              "#d8576b"
             ],
             [
              0.6666666666666666,
              "#ed7953"
             ],
             [
              0.7777777777777778,
              "#fb9f3a"
             ],
             [
              0.8888888888888888,
              "#fdca26"
             ],
             [
              1,
              "#f0f921"
             ]
            ],
            "type": "contour"
           }
          ],
          "contourcarpet": [
           {
            "colorbar": {
             "outlinewidth": 0,
             "ticks": ""
            },
            "type": "contourcarpet"
           }
          ],
          "heatmap": [
           {
            "colorbar": {
             "outlinewidth": 0,
             "ticks": ""
            },
            "colorscale": [
             [
              0,
              "#0d0887"
             ],
             [
              0.1111111111111111,
              "#46039f"
             ],
             [
              0.2222222222222222,
              "#7201a8"
             ],
             [
              0.3333333333333333,
              "#9c179e"
             ],
             [
              0.4444444444444444,
              "#bd3786"
             ],
             [
              0.5555555555555556,
              "#d8576b"
             ],
             [
              0.6666666666666666,
              "#ed7953"
             ],
             [
              0.7777777777777778,
              "#fb9f3a"
             ],
             [
              0.8888888888888888,
              "#fdca26"
             ],
             [
              1,
              "#f0f921"
             ]
            ],
            "type": "heatmap"
           }
          ],
          "heatmapgl": [
           {
            "colorbar": {
             "outlinewidth": 0,
             "ticks": ""
            },
            "colorscale": [
             [
              0,
              "#0d0887"
             ],
             [
              0.1111111111111111,
              "#46039f"
             ],
             [
              0.2222222222222222,
              "#7201a8"
             ],
             [
              0.3333333333333333,
              "#9c179e"
             ],
             [
              0.4444444444444444,
              "#bd3786"
             ],
             [
              0.5555555555555556,
              "#d8576b"
             ],
             [
              0.6666666666666666,
              "#ed7953"
             ],
             [
              0.7777777777777778,
              "#fb9f3a"
             ],
             [
              0.8888888888888888,
              "#fdca26"
             ],
             [
              1,
              "#f0f921"
             ]
            ],
            "type": "heatmapgl"
           }
          ],
          "histogram": [
           {
            "marker": {
             "colorbar": {
              "outlinewidth": 0,
              "ticks": ""
             }
            },
            "type": "histogram"
           }
          ],
          "histogram2d": [
           {
            "colorbar": {
             "outlinewidth": 0,
             "ticks": ""
            },
            "colorscale": [
             [
              0,
              "#0d0887"
             ],
             [
              0.1111111111111111,
              "#46039f"
             ],
             [
              0.2222222222222222,
              "#7201a8"
             ],
             [
              0.3333333333333333,
              "#9c179e"
             ],
             [
              0.4444444444444444,
              "#bd3786"
             ],
             [
              0.5555555555555556,
              "#d8576b"
             ],
             [
              0.6666666666666666,
              "#ed7953"
             ],
             [
              0.7777777777777778,
              "#fb9f3a"
             ],
             [
              0.8888888888888888,
              "#fdca26"
             ],
             [
              1,
              "#f0f921"
             ]
            ],
            "type": "histogram2d"
           }
          ],
          "histogram2dcontour": [
           {
            "colorbar": {
             "outlinewidth": 0,
             "ticks": ""
            },
            "colorscale": [
             [
              0,
              "#0d0887"
             ],
             [
              0.1111111111111111,
              "#46039f"
             ],
             [
              0.2222222222222222,
              "#7201a8"
             ],
             [
              0.3333333333333333,
              "#9c179e"
             ],
             [
              0.4444444444444444,
              "#bd3786"
             ],
             [
              0.5555555555555556,
              "#d8576b"
             ],
             [
              0.6666666666666666,
              "#ed7953"
             ],
             [
              0.7777777777777778,
              "#fb9f3a"
             ],
             [
              0.8888888888888888,
              "#fdca26"
             ],
             [
              1,
              "#f0f921"
             ]
            ],
            "type": "histogram2dcontour"
           }
          ],
          "mesh3d": [
           {
            "colorbar": {
             "outlinewidth": 0,
             "ticks": ""
            },
            "type": "mesh3d"
           }
          ],
          "parcoords": [
           {
            "line": {
             "colorbar": {
              "outlinewidth": 0,
              "ticks": ""
             }
            },
            "type": "parcoords"
           }
          ],
          "pie": [
           {
            "automargin": true,
            "type": "pie"
           }
          ],
          "scatter": [
           {
            "marker": {
             "colorbar": {
              "outlinewidth": 0,
              "ticks": ""
             }
            },
            "type": "scatter"
           }
          ],
          "scatter3d": [
           {
            "line": {
             "colorbar": {
              "outlinewidth": 0,
              "ticks": ""
             }
            },
            "marker": {
             "colorbar": {
              "outlinewidth": 0,
              "ticks": ""
             }
            },
            "type": "scatter3d"
           }
          ],
          "scattercarpet": [
           {
            "marker": {
             "colorbar": {
              "outlinewidth": 0,
              "ticks": ""
             }
            },
            "type": "scattercarpet"
           }
          ],
          "scattergeo": [
           {
            "marker": {
             "colorbar": {
              "outlinewidth": 0,
              "ticks": ""
             }
            },
            "type": "scattergeo"
           }
          ],
          "scattergl": [
           {
            "marker": {
             "colorbar": {
              "outlinewidth": 0,
              "ticks": ""
             }
            },
            "type": "scattergl"
           }
          ],
          "scattermapbox": [
           {
            "marker": {
             "colorbar": {
              "outlinewidth": 0,
              "ticks": ""
             }
            },
            "type": "scattermapbox"
           }
          ],
          "scatterpolar": [
           {
            "marker": {
             "colorbar": {
              "outlinewidth": 0,
              "ticks": ""
             }
            },
            "type": "scatterpolar"
           }
          ],
          "scatterpolargl": [
           {
            "marker": {
             "colorbar": {
              "outlinewidth": 0,
              "ticks": ""
             }
            },
            "type": "scatterpolargl"
           }
          ],
          "scatterternary": [
           {
            "marker": {
             "colorbar": {
              "outlinewidth": 0,
              "ticks": ""
             }
            },
            "type": "scatterternary"
           }
          ],
          "surface": [
           {
            "colorbar": {
             "outlinewidth": 0,
             "ticks": ""
            },
            "colorscale": [
             [
              0,
              "#0d0887"
             ],
             [
              0.1111111111111111,
              "#46039f"
             ],
             [
              0.2222222222222222,
              "#7201a8"
             ],
             [
              0.3333333333333333,
              "#9c179e"
             ],
             [
              0.4444444444444444,
              "#bd3786"
             ],
             [
              0.5555555555555556,
              "#d8576b"
             ],
             [
              0.6666666666666666,
              "#ed7953"
             ],
             [
              0.7777777777777778,
              "#fb9f3a"
             ],
             [
              0.8888888888888888,
              "#fdca26"
             ],
             [
              1,
              "#f0f921"
             ]
            ],
            "type": "surface"
           }
          ],
          "table": [
           {
            "cells": {
             "fill": {
              "color": "#EBF0F8"
             },
             "line": {
              "color": "white"
             }
            },
            "header": {
             "fill": {
              "color": "#C8D4E3"
             },
             "line": {
              "color": "white"
             }
            },
            "type": "table"
           }
          ]
         },
         "layout": {
          "annotationdefaults": {
           "arrowcolor": "#2a3f5f",
           "arrowhead": 0,
           "arrowwidth": 1
          },
          "coloraxis": {
           "colorbar": {
            "outlinewidth": 0,
            "ticks": ""
           }
          },
          "colorscale": {
           "diverging": [
            [
             0,
             "#8e0152"
            ],
            [
             0.1,
             "#c51b7d"
            ],
            [
             0.2,
             "#de77ae"
            ],
            [
             0.3,
             "#f1b6da"
            ],
            [
             0.4,
             "#fde0ef"
            ],
            [
             0.5,
             "#f7f7f7"
            ],
            [
             0.6,
             "#e6f5d0"
            ],
            [
             0.7,
             "#b8e186"
            ],
            [
             0.8,
             "#7fbc41"
            ],
            [
             0.9,
             "#4d9221"
            ],
            [
             1,
             "#276419"
            ]
           ],
           "sequential": [
            [
             0,
             "#0d0887"
            ],
            [
             0.1111111111111111,
             "#46039f"
            ],
            [
             0.2222222222222222,
             "#7201a8"
            ],
            [
             0.3333333333333333,
             "#9c179e"
            ],
            [
             0.4444444444444444,
             "#bd3786"
            ],
            [
             0.5555555555555556,
             "#d8576b"
            ],
            [
             0.6666666666666666,
             "#ed7953"
            ],
            [
             0.7777777777777778,
             "#fb9f3a"
            ],
            [
             0.8888888888888888,
             "#fdca26"
            ],
            [
             1,
             "#f0f921"
            ]
           ],
           "sequentialminus": [
            [
             0,
             "#0d0887"
            ],
            [
             0.1111111111111111,
             "#46039f"
            ],
            [
             0.2222222222222222,
             "#7201a8"
            ],
            [
             0.3333333333333333,
             "#9c179e"
            ],
            [
             0.4444444444444444,
             "#bd3786"
            ],
            [
             0.5555555555555556,
             "#d8576b"
            ],
            [
             0.6666666666666666,
             "#ed7953"
            ],
            [
             0.7777777777777778,
             "#fb9f3a"
            ],
            [
             0.8888888888888888,
             "#fdca26"
            ],
            [
             1,
             "#f0f921"
            ]
           ]
          },
          "colorway": [
           "#636efa",
           "#EF553B",
           "#00cc96",
           "#ab63fa",
           "#FFA15A",
           "#19d3f3",
           "#FF6692",
           "#B6E880",
           "#FF97FF",
           "#FECB52"
          ],
          "font": {
           "color": "#2a3f5f"
          },
          "geo": {
           "bgcolor": "white",
           "lakecolor": "white",
           "landcolor": "#E5ECF6",
           "showlakes": true,
           "showland": true,
           "subunitcolor": "white"
          },
          "hoverlabel": {
           "align": "left"
          },
          "hovermode": "closest",
          "mapbox": {
           "style": "light"
          },
          "paper_bgcolor": "white",
          "plot_bgcolor": "#E5ECF6",
          "polar": {
           "angularaxis": {
            "gridcolor": "white",
            "linecolor": "white",
            "ticks": ""
           },
           "bgcolor": "#E5ECF6",
           "radialaxis": {
            "gridcolor": "white",
            "linecolor": "white",
            "ticks": ""
           }
          },
          "scene": {
           "xaxis": {
            "backgroundcolor": "#E5ECF6",
            "gridcolor": "white",
            "gridwidth": 2,
            "linecolor": "white",
            "showbackground": true,
            "ticks": "",
            "zerolinecolor": "white"
           },
           "yaxis": {
            "backgroundcolor": "#E5ECF6",
            "gridcolor": "white",
            "gridwidth": 2,
            "linecolor": "white",
            "showbackground": true,
            "ticks": "",
            "zerolinecolor": "white"
           },
           "zaxis": {
            "backgroundcolor": "#E5ECF6",
            "gridcolor": "white",
            "gridwidth": 2,
            "linecolor": "white",
            "showbackground": true,
            "ticks": "",
            "zerolinecolor": "white"
           }
          },
          "shapedefaults": {
           "line": {
            "color": "#2a3f5f"
           }
          },
          "ternary": {
           "aaxis": {
            "gridcolor": "white",
            "linecolor": "white",
            "ticks": ""
           },
           "baxis": {
            "gridcolor": "white",
            "linecolor": "white",
            "ticks": ""
           },
           "bgcolor": "#E5ECF6",
           "caxis": {
            "gridcolor": "white",
            "linecolor": "white",
            "ticks": ""
           }
          },
          "title": {
           "x": 0.05
          },
          "xaxis": {
           "automargin": true,
           "gridcolor": "white",
           "linecolor": "white",
           "ticks": "",
           "title": {
            "standoff": 15
           },
           "zerolinecolor": "white",
           "zerolinewidth": 2
          },
          "yaxis": {
           "automargin": true,
           "gridcolor": "white",
           "linecolor": "white",
           "ticks": "",
           "title": {
            "standoff": 15
           },
           "zerolinecolor": "white",
           "zerolinewidth": 2
          }
         }
        },
        "title": {
         "text": "Vendas por categoria de produtos"
        },
        "xaxis": {
         "tickangle": 75,
         "title": {
          "font": {
           "color": "lightgrey",
           "size": 40
          }
         }
        },
        "yaxis": {
         "title": {
          "text": "Quantidade Vendida"
         }
        }
       }
      },
      "text/html": [
       "<div>\n",
       "        \n",
       "        \n",
       "            <div id=\"7d3c6a94-0bb2-4538-827c-1ddd313f9f3a\" class=\"plotly-graph-div\" style=\"height:525px; width:100%;\"></div>\n",
       "            <script type=\"text/javascript\">\n",
       "                require([\"plotly\"], function(Plotly) {\n",
       "                    window.PLOTLYENV=window.PLOTLYENV || {};\n",
       "                    \n",
       "                if (document.getElementById(\"7d3c6a94-0bb2-4538-827c-1ddd313f9f3a\")) {\n",
       "                    Plotly.newPlot(\n",
       "                        '7d3c6a94-0bb2-4538-827c-1ddd313f9f3a',\n",
       "                        [{\"marker\": {\"color\": \"#00FF2A\"}, \"orientation\": \"v\", \"type\": \"bar\", \"x\": [\"Suco\", \"Sabonete em Barra\", \"Macarr\\u00e3o de S\\u00eamola\", \"Macarr\\u00e3o Instant\\u00e2neo\", \"Molho de Tomate\", \"Leite Tradicional\", \"Creme Dental\", \"Caf\\u00e9\", \"Detergente de Lou\\u00e7a\", \"Limpador Multiuso\", \"Biscoito Doce Recheado\", \"Biscoito Recheado\", \"Chocolate em Barra\", \"Shampoo\", \"Iogurte\", \"Desodorante Aerossol\", \"Sab\\u00e3o em P\\u00f3\", \"Papel Higi\\u00eanico\", \"Creme de Leite\", \"Goma de Mascar\", \"Maionese\", \"Biscoito Doce\", \"Conserva\", \"Sardinha em Conserva\", \"Biscoito Salgado\", \"Bebida L\\u00e1ctea Fermentada\", \"Salgadinho\", \"Refrigerante\", \"Sorvete\", \"Wafer\", \"Desodorante Roll-On\", \"Bolo\", \"Torrada\", \"Condicionador\", \"Requeij\\u00e3o\", \"Desinfetante\", \"\\u00d3leo de Soja\", \"Farinha de Trigo\", \"Bebida L\\u00e1ctea\", \"P\\u00e3o\", \"Amaciante de Roupa\", \"Tempero em Tablete\", \"Leite Condensado\", \"Leite Fermentado\", \"Toalha de Papel\", \"\\u00c1gua Sanit\\u00e1ria\", \"A\\u00e7\\u00facar Refinado\", \"Manteiga\", \"Inseticida\", \"Aparelho e L\\u00e2mina de Barbear\", \"Mistura para Bolo\", \"Margarina\", \"Gelatina\", \"Energ\\u00e9tico\", \"Queijo Ralado\", \"Esponja de A\\u00e7o\", \"Sobremesa L\\u00e1ctea\", \"Extrato de Tomate\", \"P\\u00e3o de Alho\", \"Azeite de Oliva\", \"Guardanapo de Papel\", \"Ch\\u00e1\", \"Atum em Conserva\", \"Filtro de Caf\\u00e9\", \"Fralda Descart\\u00e1vel Infantil\", \"Absorvente Higi\\u00eanico\", \"Coco Ralado\", \"Ketchup\", \"Snack\", \"Bombom\", \"Creme de Queijo\", \"Sabonete L\\u00edquido\", \"Desodorizador Sanit\\u00e1rio\", \"Cerveja\", \"Petit Suisse\", \"Sab\\u00e3o L\\u00edquido\", \"Sabonete em Barra Infantil\", \"Macarr\\u00e3o com Ovos\", \"Bebida de Fruta/Mista\", \"P\\u00e3o Bisnaguinha\", \"Creme para Pentear\", \"Detergente Multiuso\", \"Ado\\u00e7ante\", \"Biscoito Cookie\", \"Cappuccino\", \"Achocolatado em P\\u00f3\", \"Lasanha Pronta\", \"Doce de Leite\", \"Esponja Multiuso\", \"Palito de Dente\", \"F\\u00f3sforo\", \"Odorizador de Ambiente/Roupa\", \"\\u00c1gua de Coco\", \"Leite de Coco\", \"Desodorante para P\\u00e9s\", \"Massa Fresca\"], \"y\": [56091, 45254, 32598, 18825, 12832, 12188, 10500, 8731, 8236, 7905, 7841, 7841, 6983, 6356, 5359, 5089, 4550, 4143, 4032, 3756, 3664, 3378, 3362, 3307, 3252, 3075, 2943, 2640, 2571, 2286, 2109, 2017, 1994, 1954, 1855, 1829, 1797, 1763, 1759, 1731, 1580, 1476, 1418, 1320, 1319, 1309, 1289, 1233, 1157, 1149, 1141, 1044, 1027, 1014, 994, 988, 978, 965, 944, 902, 887, 863, 859, 834, 832, 831, 767, 750, 727, 711, 634, 632, 629, 629, 574, 524, 503, 492, 473, 470, 466, 436, 435, 429, 420, 390, 384, 381, 373, 363, 359, 357, 354, 315, 312, 310]}],\n",
       "                        {\"template\": {\"data\": {\"bar\": [{\"error_x\": {\"color\": \"#2a3f5f\"}, \"error_y\": {\"color\": \"#2a3f5f\"}, \"marker\": {\"line\": {\"color\": \"#E5ECF6\", \"width\": 0.5}}, \"type\": \"bar\"}], \"barpolar\": [{\"marker\": {\"line\": {\"color\": \"#E5ECF6\", \"width\": 0.5}}, \"type\": \"barpolar\"}], \"carpet\": [{\"aaxis\": {\"endlinecolor\": \"#2a3f5f\", \"gridcolor\": \"white\", \"linecolor\": \"white\", \"minorgridcolor\": \"white\", \"startlinecolor\": \"#2a3f5f\"}, \"baxis\": {\"endlinecolor\": \"#2a3f5f\", \"gridcolor\": \"white\", \"linecolor\": \"white\", \"minorgridcolor\": \"white\", \"startlinecolor\": \"#2a3f5f\"}, \"type\": \"carpet\"}], \"choropleth\": [{\"colorbar\": {\"outlinewidth\": 0, \"ticks\": \"\"}, \"type\": \"choropleth\"}], \"contour\": [{\"colorbar\": {\"outlinewidth\": 0, \"ticks\": \"\"}, \"colorscale\": [[0.0, \"#0d0887\"], [0.1111111111111111, \"#46039f\"], [0.2222222222222222, \"#7201a8\"], [0.3333333333333333, \"#9c179e\"], [0.4444444444444444, \"#bd3786\"], [0.5555555555555556, \"#d8576b\"], [0.6666666666666666, \"#ed7953\"], [0.7777777777777778, \"#fb9f3a\"], [0.8888888888888888, \"#fdca26\"], [1.0, \"#f0f921\"]], \"type\": \"contour\"}], \"contourcarpet\": [{\"colorbar\": {\"outlinewidth\": 0, \"ticks\": \"\"}, \"type\": \"contourcarpet\"}], \"heatmap\": [{\"colorbar\": {\"outlinewidth\": 0, \"ticks\": \"\"}, \"colorscale\": [[0.0, \"#0d0887\"], [0.1111111111111111, \"#46039f\"], [0.2222222222222222, \"#7201a8\"], [0.3333333333333333, \"#9c179e\"], [0.4444444444444444, \"#bd3786\"], [0.5555555555555556, \"#d8576b\"], [0.6666666666666666, \"#ed7953\"], [0.7777777777777778, \"#fb9f3a\"], [0.8888888888888888, \"#fdca26\"], [1.0, \"#f0f921\"]], \"type\": \"heatmap\"}], \"heatmapgl\": [{\"colorbar\": {\"outlinewidth\": 0, \"ticks\": \"\"}, \"colorscale\": [[0.0, \"#0d0887\"], [0.1111111111111111, \"#46039f\"], [0.2222222222222222, \"#7201a8\"], [0.3333333333333333, \"#9c179e\"], [0.4444444444444444, \"#bd3786\"], [0.5555555555555556, \"#d8576b\"], [0.6666666666666666, \"#ed7953\"], [0.7777777777777778, \"#fb9f3a\"], [0.8888888888888888, \"#fdca26\"], [1.0, \"#f0f921\"]], \"type\": \"heatmapgl\"}], \"histogram\": [{\"marker\": {\"colorbar\": {\"outlinewidth\": 0, \"ticks\": \"\"}}, \"type\": \"histogram\"}], \"histogram2d\": [{\"colorbar\": {\"outlinewidth\": 0, \"ticks\": \"\"}, \"colorscale\": [[0.0, \"#0d0887\"], [0.1111111111111111, \"#46039f\"], [0.2222222222222222, \"#7201a8\"], [0.3333333333333333, \"#9c179e\"], [0.4444444444444444, \"#bd3786\"], [0.5555555555555556, \"#d8576b\"], [0.6666666666666666, \"#ed7953\"], [0.7777777777777778, \"#fb9f3a\"], [0.8888888888888888, \"#fdca26\"], [1.0, \"#f0f921\"]], \"type\": \"histogram2d\"}], \"histogram2dcontour\": [{\"colorbar\": {\"outlinewidth\": 0, \"ticks\": \"\"}, \"colorscale\": [[0.0, \"#0d0887\"], [0.1111111111111111, \"#46039f\"], [0.2222222222222222, \"#7201a8\"], [0.3333333333333333, \"#9c179e\"], [0.4444444444444444, \"#bd3786\"], [0.5555555555555556, \"#d8576b\"], [0.6666666666666666, \"#ed7953\"], [0.7777777777777778, \"#fb9f3a\"], [0.8888888888888888, \"#fdca26\"], [1.0, \"#f0f921\"]], \"type\": \"histogram2dcontour\"}], \"mesh3d\": [{\"colorbar\": {\"outlinewidth\": 0, \"ticks\": \"\"}, \"type\": \"mesh3d\"}], \"parcoords\": [{\"line\": {\"colorbar\": {\"outlinewidth\": 0, \"ticks\": \"\"}}, \"type\": \"parcoords\"}], \"pie\": [{\"automargin\": true, \"type\": \"pie\"}], \"scatter\": [{\"marker\": {\"colorbar\": {\"outlinewidth\": 0, \"ticks\": \"\"}}, \"type\": \"scatter\"}], \"scatter3d\": [{\"line\": {\"colorbar\": {\"outlinewidth\": 0, \"ticks\": \"\"}}, \"marker\": {\"colorbar\": {\"outlinewidth\": 0, \"ticks\": \"\"}}, \"type\": \"scatter3d\"}], \"scattercarpet\": [{\"marker\": {\"colorbar\": {\"outlinewidth\": 0, \"ticks\": \"\"}}, \"type\": \"scattercarpet\"}], \"scattergeo\": [{\"marker\": {\"colorbar\": {\"outlinewidth\": 0, \"ticks\": \"\"}}, \"type\": \"scattergeo\"}], \"scattergl\": [{\"marker\": {\"colorbar\": {\"outlinewidth\": 0, \"ticks\": \"\"}}, \"type\": \"scattergl\"}], \"scattermapbox\": [{\"marker\": {\"colorbar\": {\"outlinewidth\": 0, \"ticks\": \"\"}}, \"type\": \"scattermapbox\"}], \"scatterpolar\": [{\"marker\": {\"colorbar\": {\"outlinewidth\": 0, \"ticks\": \"\"}}, \"type\": \"scatterpolar\"}], \"scatterpolargl\": [{\"marker\": {\"colorbar\": {\"outlinewidth\": 0, \"ticks\": \"\"}}, \"type\": \"scatterpolargl\"}], \"scatterternary\": [{\"marker\": {\"colorbar\": {\"outlinewidth\": 0, \"ticks\": \"\"}}, \"type\": \"scatterternary\"}], \"surface\": [{\"colorbar\": {\"outlinewidth\": 0, \"ticks\": \"\"}, \"colorscale\": [[0.0, \"#0d0887\"], [0.1111111111111111, \"#46039f\"], [0.2222222222222222, \"#7201a8\"], [0.3333333333333333, \"#9c179e\"], [0.4444444444444444, \"#bd3786\"], [0.5555555555555556, \"#d8576b\"], [0.6666666666666666, \"#ed7953\"], [0.7777777777777778, \"#fb9f3a\"], [0.8888888888888888, \"#fdca26\"], [1.0, \"#f0f921\"]], \"type\": \"surface\"}], \"table\": [{\"cells\": {\"fill\": {\"color\": \"#EBF0F8\"}, \"line\": {\"color\": \"white\"}}, \"header\": {\"fill\": {\"color\": \"#C8D4E3\"}, \"line\": {\"color\": \"white\"}}, \"type\": \"table\"}]}, \"layout\": {\"annotationdefaults\": {\"arrowcolor\": \"#2a3f5f\", \"arrowhead\": 0, \"arrowwidth\": 1}, \"coloraxis\": {\"colorbar\": {\"outlinewidth\": 0, \"ticks\": \"\"}}, \"colorscale\": {\"diverging\": [[0, \"#8e0152\"], [0.1, \"#c51b7d\"], [0.2, \"#de77ae\"], [0.3, \"#f1b6da\"], [0.4, \"#fde0ef\"], [0.5, \"#f7f7f7\"], [0.6, \"#e6f5d0\"], [0.7, \"#b8e186\"], [0.8, \"#7fbc41\"], [0.9, \"#4d9221\"], [1, \"#276419\"]], \"sequential\": [[0.0, \"#0d0887\"], [0.1111111111111111, \"#46039f\"], [0.2222222222222222, \"#7201a8\"], [0.3333333333333333, \"#9c179e\"], [0.4444444444444444, \"#bd3786\"], [0.5555555555555556, \"#d8576b\"], [0.6666666666666666, \"#ed7953\"], [0.7777777777777778, \"#fb9f3a\"], [0.8888888888888888, \"#fdca26\"], [1.0, \"#f0f921\"]], \"sequentialminus\": [[0.0, \"#0d0887\"], [0.1111111111111111, \"#46039f\"], [0.2222222222222222, \"#7201a8\"], [0.3333333333333333, \"#9c179e\"], [0.4444444444444444, \"#bd3786\"], [0.5555555555555556, \"#d8576b\"], [0.6666666666666666, \"#ed7953\"], [0.7777777777777778, \"#fb9f3a\"], [0.8888888888888888, \"#fdca26\"], [1.0, \"#f0f921\"]]}, \"colorway\": [\"#636efa\", \"#EF553B\", \"#00cc96\", \"#ab63fa\", \"#FFA15A\", \"#19d3f3\", \"#FF6692\", \"#B6E880\", \"#FF97FF\", \"#FECB52\"], \"font\": {\"color\": \"#2a3f5f\"}, \"geo\": {\"bgcolor\": \"white\", \"lakecolor\": \"white\", \"landcolor\": \"#E5ECF6\", \"showlakes\": true, \"showland\": true, \"subunitcolor\": \"white\"}, \"hoverlabel\": {\"align\": \"left\"}, \"hovermode\": \"closest\", \"mapbox\": {\"style\": \"light\"}, \"paper_bgcolor\": \"white\", \"plot_bgcolor\": \"#E5ECF6\", \"polar\": {\"angularaxis\": {\"gridcolor\": \"white\", \"linecolor\": \"white\", \"ticks\": \"\"}, \"bgcolor\": \"#E5ECF6\", \"radialaxis\": {\"gridcolor\": \"white\", \"linecolor\": \"white\", \"ticks\": \"\"}}, \"scene\": {\"xaxis\": {\"backgroundcolor\": \"#E5ECF6\", \"gridcolor\": \"white\", \"gridwidth\": 2, \"linecolor\": \"white\", \"showbackground\": true, \"ticks\": \"\", \"zerolinecolor\": \"white\"}, \"yaxis\": {\"backgroundcolor\": \"#E5ECF6\", \"gridcolor\": \"white\", \"gridwidth\": 2, \"linecolor\": \"white\", \"showbackground\": true, \"ticks\": \"\", \"zerolinecolor\": \"white\"}, \"zaxis\": {\"backgroundcolor\": \"#E5ECF6\", \"gridcolor\": \"white\", \"gridwidth\": 2, \"linecolor\": \"white\", \"showbackground\": true, \"ticks\": \"\", \"zerolinecolor\": \"white\"}}, \"shapedefaults\": {\"line\": {\"color\": \"#2a3f5f\"}}, \"ternary\": {\"aaxis\": {\"gridcolor\": \"white\", \"linecolor\": \"white\", \"ticks\": \"\"}, \"baxis\": {\"gridcolor\": \"white\", \"linecolor\": \"white\", \"ticks\": \"\"}, \"bgcolor\": \"#E5ECF6\", \"caxis\": {\"gridcolor\": \"white\", \"linecolor\": \"white\", \"ticks\": \"\"}}, \"title\": {\"x\": 0.05}, \"xaxis\": {\"automargin\": true, \"gridcolor\": \"white\", \"linecolor\": \"white\", \"ticks\": \"\", \"title\": {\"standoff\": 15}, \"zerolinecolor\": \"white\", \"zerolinewidth\": 2}, \"yaxis\": {\"automargin\": true, \"gridcolor\": \"white\", \"linecolor\": \"white\", \"ticks\": \"\", \"title\": {\"standoff\": 15}, \"zerolinecolor\": \"white\", \"zerolinewidth\": 2}}}, \"title\": {\"text\": \"Vendas por categoria de produtos\"}, \"xaxis\": {\"tickangle\": 75, \"title\": {\"font\": {\"color\": \"lightgrey\", \"size\": 40}}}, \"yaxis\": {\"title\": {\"text\": \"Quantidade Vendida\"}}},\n",
       "                        {\"responsive\": true}\n",
       "                    ).then(function(){\n",
       "                            \n",
       "var gd = document.getElementById('7d3c6a94-0bb2-4538-827c-1ddd313f9f3a');\n",
       "var x = new MutationObserver(function (mutations, observer) {{\n",
       "        var display = window.getComputedStyle(gd).display;\n",
       "        if (!display || display === 'none') {{\n",
       "            console.log([gd, 'removed!']);\n",
       "            Plotly.purge(gd);\n",
       "            observer.disconnect();\n",
       "        }}\n",
       "}});\n",
       "\n",
       "// Listen for the removal of the full notebook cells\n",
       "var notebookContainer = gd.closest('#notebook-container');\n",
       "if (notebookContainer) {{\n",
       "    x.observe(notebookContainer, {childList: true});\n",
       "}}\n",
       "\n",
       "// Listen for the clearing of the current output cell\n",
       "var outputEl = gd.closest('.output');\n",
       "if (outputEl) {{\n",
       "    x.observe(outputEl, {childList: true});\n",
       "}}\n",
       "\n",
       "                        })\n",
       "                };\n",
       "                });\n",
       "            </script>\n",
       "        </div>"
      ]
     },
     "metadata": {},
     "output_type": "display_data"
    }
   ],
   "source": [
    "# Todos os produtos da categoria filho\n",
    "trace0 = go.Bar(y=vendas_categoria.values,\n",
    "               x=vendas_categoria.index,\n",
    "               marker = {'color': '#00FF2A'},\n",
    "               orientation='v'\n",
    "               )\n",
    "\n",
    "# produtos mais vendidos\n",
    "trace1 = go.Bar(y=prod_mais.values,\n",
    "               x=prod_mais.index,\n",
    "               marker = {'color': '#00FF2A'},\n",
    "               orientation='v'\n",
    "               )\n",
    "\n",
    "# produtos menos vendidos\n",
    "trace2 = go.Bar(y=prod_menos.values,\n",
    "               x=prod_menos.index,\n",
    "               marker = {'color': '#00FF2A'},\n",
    "               orientation='v'\n",
    "               )\n",
    "\n",
    "\n",
    "\n",
    "# Para alterar os plots basta alterar os trace\n",
    "data = [trace1]\n",
    "\n",
    "\n",
    "# Criando o Layout\n",
    "config_layout = go.Layout(title='Vendas por categoria de produtos',\n",
    "                         xaxis=dict(\n",
    "                             titlefont=dict(\n",
    "                                 size=40,\n",
    "                                 color='lightgrey'),\n",
    "                         tickangle=75),\n",
    "                         yaxis={'title':'Quantidade Vendida'})\n",
    "\n",
    "# Objeto Figura\n",
    "fig = go.Figure(data=data, layout=config_layout)\n",
    "\n",
    "# Plotando\n",
    "py.iplot(fig)"
   ]
  },
  {
   "cell_type": "markdown",
   "metadata": {},
   "source": [
    "## Divisão por quantidade e clustering"
   ]
  },
  {
   "cell_type": "code",
   "execution_count": 117,
   "metadata": {},
   "outputs": [
    {
     "data": {
      "text/html": [
       "<div>\n",
       "<style scoped>\n",
       "    .dataframe tbody tr th:only-of-type {\n",
       "        vertical-align: middle;\n",
       "    }\n",
       "\n",
       "    .dataframe tbody tr th {\n",
       "        vertical-align: top;\n",
       "    }\n",
       "\n",
       "    .dataframe thead th {\n",
       "        text-align: right;\n",
       "    }\n",
       "</style>\n",
       "<table border=\"1\" class=\"dataframe\">\n",
       "  <thead>\n",
       "    <tr style=\"text-align: right;\">\n",
       "      <th></th>\n",
       "      <th>order_id</th>\n",
       "      <th>customer_id</th>\n",
       "      <th>int_itens_comp</th>\n",
       "      <th>product_name</th>\n",
       "      <th>child_category_id</th>\n",
       "      <th>child_category_name</th>\n",
       "      <th>parent_category_id</th>\n",
       "      <th>parent_category_name</th>\n",
       "    </tr>\n",
       "  </thead>\n",
       "  <tbody>\n",
       "    <tr>\n",
       "      <th>0</th>\n",
       "      <td>11260</td>\n",
       "      <td>7927</td>\n",
       "      <td>2313</td>\n",
       "      <td>Farinha de Trigo Tipo 1 Famiglia Venturelli Pa...</td>\n",
       "      <td>482</td>\n",
       "      <td>Farinha de Trigo</td>\n",
       "      <td>214</td>\n",
       "      <td>Pai - Mercearia Básica</td>\n",
       "    </tr>\n",
       "    <tr>\n",
       "      <th>1</th>\n",
       "      <td>4270</td>\n",
       "      <td>7927</td>\n",
       "      <td>5174</td>\n",
       "      <td>Suco Concentrado Uva Dafruta Garrafa 500ml</td>\n",
       "      <td>181</td>\n",
       "      <td>Suco</td>\n",
       "      <td>180</td>\n",
       "      <td>Pai - Bebidas Não Alcoólicas</td>\n",
       "    </tr>\n",
       "    <tr>\n",
       "      <th>2</th>\n",
       "      <td>4270</td>\n",
       "      <td>7927</td>\n",
       "      <td>5174</td>\n",
       "      <td>Suco Concentrado Uva Dafruta Garrafa 500ml</td>\n",
       "      <td>181</td>\n",
       "      <td>Suco</td>\n",
       "      <td>180</td>\n",
       "      <td>Pai - Bebidas Não Alcoólicas</td>\n",
       "    </tr>\n",
       "    <tr>\n",
       "      <th>3</th>\n",
       "      <td>7471</td>\n",
       "      <td>7927</td>\n",
       "      <td>1036</td>\n",
       "      <td>Café Torrado e Moído a Vácuo 3 Corações Estrad...</td>\n",
       "      <td>303</td>\n",
       "      <td>Café</td>\n",
       "      <td>214</td>\n",
       "      <td>Pai - Mercearia Básica</td>\n",
       "    </tr>\n",
       "    <tr>\n",
       "      <th>4</th>\n",
       "      <td>4270</td>\n",
       "      <td>7927</td>\n",
       "      <td>4785</td>\n",
       "      <td>Sabonete em Barra Creme e Flor de Peônia Dove ...</td>\n",
       "      <td>195</td>\n",
       "      <td>Sabonete em Barra</td>\n",
       "      <td>182</td>\n",
       "      <td>Pai - HPC</td>\n",
       "    </tr>\n",
       "  </tbody>\n",
       "</table>\n",
       "</div>"
      ],
      "text/plain": [
       "   order_id  customer_id  int_itens_comp  \\\n",
       "0     11260         7927            2313   \n",
       "1      4270         7927            5174   \n",
       "2      4270         7927            5174   \n",
       "3      7471         7927            1036   \n",
       "4      4270         7927            4785   \n",
       "\n",
       "                                        product_name  child_category_id  \\\n",
       "0  Farinha de Trigo Tipo 1 Famiglia Venturelli Pa...                482   \n",
       "1         Suco Concentrado Uva Dafruta Garrafa 500ml                181   \n",
       "2         Suco Concentrado Uva Dafruta Garrafa 500ml                181   \n",
       "3  Café Torrado e Moído a Vácuo 3 Corações Estrad...                303   \n",
       "4  Sabonete em Barra Creme e Flor de Peônia Dove ...                195   \n",
       "\n",
       "  child_category_name  parent_category_id          parent_category_name  \n",
       "0    Farinha de Trigo                 214        Pai - Mercearia Básica  \n",
       "1                Suco                 180  Pai - Bebidas Não Alcoólicas  \n",
       "2                Suco                 180  Pai - Bebidas Não Alcoólicas  \n",
       "3                Café                 214        Pai - Mercearia Básica  \n",
       "4   Sabonete em Barra                 182                     Pai - HPC  "
      ]
     },
     "execution_count": 117,
     "metadata": {},
     "output_type": "execute_result"
    }
   ],
   "source": [
    "df.head()"
   ]
  },
  {
   "cell_type": "code",
   "execution_count": 118,
   "metadata": {},
   "outputs": [
    {
     "data": {
      "text/html": [
       "<div>\n",
       "<style scoped>\n",
       "    .dataframe tbody tr th:only-of-type {\n",
       "        vertical-align: middle;\n",
       "    }\n",
       "\n",
       "    .dataframe tbody tr th {\n",
       "        vertical-align: top;\n",
       "    }\n",
       "\n",
       "    .dataframe thead th {\n",
       "        text-align: right;\n",
       "    }\n",
       "</style>\n",
       "<table border=\"1\" class=\"dataframe\">\n",
       "  <thead>\n",
       "    <tr style=\"text-align: right;\">\n",
       "      <th>parent_category_name</th>\n",
       "      <th>Pai - Bazar</th>\n",
       "      <th>Pai - Bebidas Alcoólicas</th>\n",
       "      <th>Pai - Bebidas Não Alcoólicas</th>\n",
       "      <th>Pai - HPC</th>\n",
       "      <th>Pai - Limpeza / Descartáveis</th>\n",
       "      <th>Pai - Mercearia Básica</th>\n",
       "      <th>Pai - Perecíveis</th>\n",
       "      <th>Pai - Têxtil</th>\n",
       "      <th>Pai- Mercearia Complementar</th>\n",
       "      <th>Pai-Hortifruti</th>\n",
       "    </tr>\n",
       "    <tr>\n",
       "      <th>product_name</th>\n",
       "      <th></th>\n",
       "      <th></th>\n",
       "      <th></th>\n",
       "      <th></th>\n",
       "      <th></th>\n",
       "      <th></th>\n",
       "      <th></th>\n",
       "      <th></th>\n",
       "      <th></th>\n",
       "      <th></th>\n",
       "    </tr>\n",
       "  </thead>\n",
       "  <tbody>\n",
       "    <tr>\n",
       "      <th>Abacaxi em Calda Predilecta Lata 400g</th>\n",
       "      <td>0</td>\n",
       "      <td>0</td>\n",
       "      <td>0</td>\n",
       "      <td>0</td>\n",
       "      <td>0</td>\n",
       "      <td>0</td>\n",
       "      <td>0</td>\n",
       "      <td>0</td>\n",
       "      <td>4</td>\n",
       "      <td>0</td>\n",
       "    </tr>\n",
       "    <tr>\n",
       "      <th>Absorvente Interno Mini Intimus Caixa 8 Unidades</th>\n",
       "      <td>0</td>\n",
       "      <td>0</td>\n",
       "      <td>0</td>\n",
       "      <td>0</td>\n",
       "      <td>29</td>\n",
       "      <td>0</td>\n",
       "      <td>0</td>\n",
       "      <td>0</td>\n",
       "      <td>0</td>\n",
       "      <td>0</td>\n",
       "    </tr>\n",
       "    <tr>\n",
       "      <th>Absorvente Interno Médio Intimus Caixa 8 Unidades</th>\n",
       "      <td>0</td>\n",
       "      <td>0</td>\n",
       "      <td>0</td>\n",
       "      <td>0</td>\n",
       "      <td>29</td>\n",
       "      <td>0</td>\n",
       "      <td>0</td>\n",
       "      <td>0</td>\n",
       "      <td>0</td>\n",
       "      <td>0</td>\n",
       "    </tr>\n",
       "    <tr>\n",
       "      <th>Absorvente Interno Médio Intimus Sport Caixa 8 Unidades</th>\n",
       "      <td>0</td>\n",
       "      <td>0</td>\n",
       "      <td>0</td>\n",
       "      <td>0</td>\n",
       "      <td>2</td>\n",
       "      <td>0</td>\n",
       "      <td>0</td>\n",
       "      <td>0</td>\n",
       "      <td>0</td>\n",
       "      <td>0</td>\n",
       "    </tr>\n",
       "    <tr>\n",
       "      <th>Absorvente Interno Super Intimus Caixa 8 Unidades</th>\n",
       "      <td>0</td>\n",
       "      <td>0</td>\n",
       "      <td>0</td>\n",
       "      <td>0</td>\n",
       "      <td>29</td>\n",
       "      <td>0</td>\n",
       "      <td>0</td>\n",
       "      <td>0</td>\n",
       "      <td>0</td>\n",
       "      <td>0</td>\n",
       "    </tr>\n",
       "    <tr>\n",
       "      <th>...</th>\n",
       "      <td>...</td>\n",
       "      <td>...</td>\n",
       "      <td>...</td>\n",
       "      <td>...</td>\n",
       "      <td>...</td>\n",
       "      <td>...</td>\n",
       "      <td>...</td>\n",
       "      <td>...</td>\n",
       "      <td>...</td>\n",
       "      <td>...</td>\n",
       "    </tr>\n",
       "    <tr>\n",
       "      <th>Óleo de Soja Soya Garrafa 900ml</th>\n",
       "      <td>0</td>\n",
       "      <td>0</td>\n",
       "      <td>0</td>\n",
       "      <td>0</td>\n",
       "      <td>0</td>\n",
       "      <td>389</td>\n",
       "      <td>0</td>\n",
       "      <td>0</td>\n",
       "      <td>0</td>\n",
       "      <td>0</td>\n",
       "    </tr>\n",
       "    <tr>\n",
       "      <th>Óleo de Soja Tipo 1 Liza Garrafa 900ml</th>\n",
       "      <td>0</td>\n",
       "      <td>0</td>\n",
       "      <td>0</td>\n",
       "      <td>0</td>\n",
       "      <td>0</td>\n",
       "      <td>1408</td>\n",
       "      <td>0</td>\n",
       "      <td>0</td>\n",
       "      <td>0</td>\n",
       "      <td>0</td>\n",
       "    </tr>\n",
       "    <tr>\n",
       "      <th>Óleo para Bebê Johnson's Baby Amêndoas Frasco 200ml</th>\n",
       "      <td>0</td>\n",
       "      <td>0</td>\n",
       "      <td>0</td>\n",
       "      <td>5</td>\n",
       "      <td>0</td>\n",
       "      <td>0</td>\n",
       "      <td>0</td>\n",
       "      <td>0</td>\n",
       "      <td>0</td>\n",
       "      <td>0</td>\n",
       "    </tr>\n",
       "    <tr>\n",
       "      <th>Óleo para Bebê Johnson's Baby Frasco 200ml</th>\n",
       "      <td>0</td>\n",
       "      <td>0</td>\n",
       "      <td>0</td>\n",
       "      <td>5</td>\n",
       "      <td>0</td>\n",
       "      <td>0</td>\n",
       "      <td>0</td>\n",
       "      <td>0</td>\n",
       "      <td>0</td>\n",
       "      <td>0</td>\n",
       "    </tr>\n",
       "    <tr>\n",
       "      <th>Óleo para Bebê Johnson's Recém-Nascido Frasco 100ml</th>\n",
       "      <td>0</td>\n",
       "      <td>0</td>\n",
       "      <td>0</td>\n",
       "      <td>4</td>\n",
       "      <td>0</td>\n",
       "      <td>0</td>\n",
       "      <td>0</td>\n",
       "      <td>0</td>\n",
       "      <td>0</td>\n",
       "      <td>0</td>\n",
       "    </tr>\n",
       "  </tbody>\n",
       "</table>\n",
       "<p>2771 rows × 10 columns</p>\n",
       "</div>"
      ],
      "text/plain": [
       "parent_category_name                                Pai - Bazar  \\\n",
       "product_name                                                      \n",
       "Abacaxi em Calda Predilecta Lata 400g                         0   \n",
       "Absorvente Interno Mini Intimus Caixa 8 Unidades              0   \n",
       "Absorvente Interno Médio Intimus Caixa 8 Unidades             0   \n",
       "Absorvente Interno Médio Intimus Sport Caixa 8 ...            0   \n",
       "Absorvente Interno Super Intimus Caixa 8 Unidades             0   \n",
       "...                                                         ...   \n",
       "Óleo de Soja Soya Garrafa 900ml                               0   \n",
       "Óleo de Soja Tipo 1 Liza Garrafa 900ml                        0   \n",
       "Óleo para Bebê Johnson's Baby Amêndoas Frasco 2...            0   \n",
       "Óleo para Bebê Johnson's Baby Frasco 200ml                    0   \n",
       "Óleo para Bebê Johnson's Recém-Nascido Frasco 1...            0   \n",
       "\n",
       "parent_category_name                                Pai - Bebidas Alcoólicas  \\\n",
       "product_name                                                                   \n",
       "Abacaxi em Calda Predilecta Lata 400g                                      0   \n",
       "Absorvente Interno Mini Intimus Caixa 8 Unidades                           0   \n",
       "Absorvente Interno Médio Intimus Caixa 8 Unidades                          0   \n",
       "Absorvente Interno Médio Intimus Sport Caixa 8 ...                         0   \n",
       "Absorvente Interno Super Intimus Caixa 8 Unidades                          0   \n",
       "...                                                                      ...   \n",
       "Óleo de Soja Soya Garrafa 900ml                                            0   \n",
       "Óleo de Soja Tipo 1 Liza Garrafa 900ml                                     0   \n",
       "Óleo para Bebê Johnson's Baby Amêndoas Frasco 2...                         0   \n",
       "Óleo para Bebê Johnson's Baby Frasco 200ml                                 0   \n",
       "Óleo para Bebê Johnson's Recém-Nascido Frasco 1...                         0   \n",
       "\n",
       "parent_category_name                                Pai - Bebidas Não Alcoólicas  \\\n",
       "product_name                                                                       \n",
       "Abacaxi em Calda Predilecta Lata 400g                                          0   \n",
       "Absorvente Interno Mini Intimus Caixa 8 Unidades                               0   \n",
       "Absorvente Interno Médio Intimus Caixa 8 Unidades                              0   \n",
       "Absorvente Interno Médio Intimus Sport Caixa 8 ...                             0   \n",
       "Absorvente Interno Super Intimus Caixa 8 Unidades                              0   \n",
       "...                                                                          ...   \n",
       "Óleo de Soja Soya Garrafa 900ml                                                0   \n",
       "Óleo de Soja Tipo 1 Liza Garrafa 900ml                                         0   \n",
       "Óleo para Bebê Johnson's Baby Amêndoas Frasco 2...                             0   \n",
       "Óleo para Bebê Johnson's Baby Frasco 200ml                                     0   \n",
       "Óleo para Bebê Johnson's Recém-Nascido Frasco 1...                             0   \n",
       "\n",
       "parent_category_name                                Pai - HPC  \\\n",
       "product_name                                                    \n",
       "Abacaxi em Calda Predilecta Lata 400g                       0   \n",
       "Absorvente Interno Mini Intimus Caixa 8 Unidades            0   \n",
       "Absorvente Interno Médio Intimus Caixa 8 Unidades           0   \n",
       "Absorvente Interno Médio Intimus Sport Caixa 8 ...          0   \n",
       "Absorvente Interno Super Intimus Caixa 8 Unidades           0   \n",
       "...                                                       ...   \n",
       "Óleo de Soja Soya Garrafa 900ml                             0   \n",
       "Óleo de Soja Tipo 1 Liza Garrafa 900ml                      0   \n",
       "Óleo para Bebê Johnson's Baby Amêndoas Frasco 2...          5   \n",
       "Óleo para Bebê Johnson's Baby Frasco 200ml                  5   \n",
       "Óleo para Bebê Johnson's Recém-Nascido Frasco 1...          4   \n",
       "\n",
       "parent_category_name                                Pai - Limpeza / Descartáveis  \\\n",
       "product_name                                                                       \n",
       "Abacaxi em Calda Predilecta Lata 400g                                          0   \n",
       "Absorvente Interno Mini Intimus Caixa 8 Unidades                              29   \n",
       "Absorvente Interno Médio Intimus Caixa 8 Unidades                             29   \n",
       "Absorvente Interno Médio Intimus Sport Caixa 8 ...                             2   \n",
       "Absorvente Interno Super Intimus Caixa 8 Unidades                             29   \n",
       "...                                                                          ...   \n",
       "Óleo de Soja Soya Garrafa 900ml                                                0   \n",
       "Óleo de Soja Tipo 1 Liza Garrafa 900ml                                         0   \n",
       "Óleo para Bebê Johnson's Baby Amêndoas Frasco 2...                             0   \n",
       "Óleo para Bebê Johnson's Baby Frasco 200ml                                     0   \n",
       "Óleo para Bebê Johnson's Recém-Nascido Frasco 1...                             0   \n",
       "\n",
       "parent_category_name                                Pai - Mercearia Básica  \\\n",
       "product_name                                                                 \n",
       "Abacaxi em Calda Predilecta Lata 400g                                    0   \n",
       "Absorvente Interno Mini Intimus Caixa 8 Unidades                         0   \n",
       "Absorvente Interno Médio Intimus Caixa 8 Unidades                        0   \n",
       "Absorvente Interno Médio Intimus Sport Caixa 8 ...                       0   \n",
       "Absorvente Interno Super Intimus Caixa 8 Unidades                        0   \n",
       "...                                                                    ...   \n",
       "Óleo de Soja Soya Garrafa 900ml                                        389   \n",
       "Óleo de Soja Tipo 1 Liza Garrafa 900ml                                1408   \n",
       "Óleo para Bebê Johnson's Baby Amêndoas Frasco 2...                       0   \n",
       "Óleo para Bebê Johnson's Baby Frasco 200ml                               0   \n",
       "Óleo para Bebê Johnson's Recém-Nascido Frasco 1...                       0   \n",
       "\n",
       "parent_category_name                                Pai - Perecíveis  \\\n",
       "product_name                                                           \n",
       "Abacaxi em Calda Predilecta Lata 400g                              0   \n",
       "Absorvente Interno Mini Intimus Caixa 8 Unidades                   0   \n",
       "Absorvente Interno Médio Intimus Caixa 8 Unidades                  0   \n",
       "Absorvente Interno Médio Intimus Sport Caixa 8 ...                 0   \n",
       "Absorvente Interno Super Intimus Caixa 8 Unidades                  0   \n",
       "...                                                              ...   \n",
       "Óleo de Soja Soya Garrafa 900ml                                    0   \n",
       "Óleo de Soja Tipo 1 Liza Garrafa 900ml                             0   \n",
       "Óleo para Bebê Johnson's Baby Amêndoas Frasco 2...                 0   \n",
       "Óleo para Bebê Johnson's Baby Frasco 200ml                         0   \n",
       "Óleo para Bebê Johnson's Recém-Nascido Frasco 1...                 0   \n",
       "\n",
       "parent_category_name                                Pai - Têxtil  \\\n",
       "product_name                                                       \n",
       "Abacaxi em Calda Predilecta Lata 400g                          0   \n",
       "Absorvente Interno Mini Intimus Caixa 8 Unidades               0   \n",
       "Absorvente Interno Médio Intimus Caixa 8 Unidades              0   \n",
       "Absorvente Interno Médio Intimus Sport Caixa 8 ...             0   \n",
       "Absorvente Interno Super Intimus Caixa 8 Unidades              0   \n",
       "...                                                          ...   \n",
       "Óleo de Soja Soya Garrafa 900ml                                0   \n",
       "Óleo de Soja Tipo 1 Liza Garrafa 900ml                         0   \n",
       "Óleo para Bebê Johnson's Baby Amêndoas Frasco 2...             0   \n",
       "Óleo para Bebê Johnson's Baby Frasco 200ml                     0   \n",
       "Óleo para Bebê Johnson's Recém-Nascido Frasco 1...             0   \n",
       "\n",
       "parent_category_name                                Pai- Mercearia Complementar  \\\n",
       "product_name                                                                      \n",
       "Abacaxi em Calda Predilecta Lata 400g                                         4   \n",
       "Absorvente Interno Mini Intimus Caixa 8 Unidades                              0   \n",
       "Absorvente Interno Médio Intimus Caixa 8 Unidades                             0   \n",
       "Absorvente Interno Médio Intimus Sport Caixa 8 ...                            0   \n",
       "Absorvente Interno Super Intimus Caixa 8 Unidades                             0   \n",
       "...                                                                         ...   \n",
       "Óleo de Soja Soya Garrafa 900ml                                               0   \n",
       "Óleo de Soja Tipo 1 Liza Garrafa 900ml                                        0   \n",
       "Óleo para Bebê Johnson's Baby Amêndoas Frasco 2...                            0   \n",
       "Óleo para Bebê Johnson's Baby Frasco 200ml                                    0   \n",
       "Óleo para Bebê Johnson's Recém-Nascido Frasco 1...                            0   \n",
       "\n",
       "parent_category_name                                Pai-Hortifruti  \n",
       "product_name                                                        \n",
       "Abacaxi em Calda Predilecta Lata 400g                            0  \n",
       "Absorvente Interno Mini Intimus Caixa 8 Unidades                 0  \n",
       "Absorvente Interno Médio Intimus Caixa 8 Unidades                0  \n",
       "Absorvente Interno Médio Intimus Sport Caixa 8 ...               0  \n",
       "Absorvente Interno Super Intimus Caixa 8 Unidades                0  \n",
       "...                                                            ...  \n",
       "Óleo de Soja Soya Garrafa 900ml                                  0  \n",
       "Óleo de Soja Tipo 1 Liza Garrafa 900ml                           0  \n",
       "Óleo para Bebê Johnson's Baby Amêndoas Frasco 2...               0  \n",
       "Óleo para Bebê Johnson's Baby Frasco 200ml                       0  \n",
       "Óleo para Bebê Johnson's Recém-Nascido Frasco 1...               0  \n",
       "\n",
       "[2771 rows x 10 columns]"
      ]
     },
     "execution_count": 118,
     "metadata": {},
     "output_type": "execute_result"
    }
   ],
   "source": [
    "# quantidade de ítens vendidos por categoria Pai\n",
    "\n",
    "pai = pd.crosstab(df['product_name'],df['parent_category_name'])\n",
    "#pai.to_csv('../data/pai.csv')\n",
    "pai"
   ]
  },
  {
   "cell_type": "code",
   "execution_count": 87,
   "metadata": {},
   "outputs": [
    {
     "data": {
      "text/html": [
       "<div>\n",
       "<style scoped>\n",
       "    .dataframe tbody tr th:only-of-type {\n",
       "        vertical-align: middle;\n",
       "    }\n",
       "\n",
       "    .dataframe tbody tr th {\n",
       "        vertical-align: top;\n",
       "    }\n",
       "\n",
       "    .dataframe thead th {\n",
       "        text-align: right;\n",
       "    }\n",
       "</style>\n",
       "<table border=\"1\" class=\"dataframe\">\n",
       "  <thead>\n",
       "    <tr style=\"text-align: right;\">\n",
       "      <th></th>\n",
       "      <th>order_id</th>\n",
       "      <th>customer_id</th>\n",
       "      <th>int_itens_comp</th>\n",
       "      <th>product_name</th>\n",
       "      <th>child_category_id</th>\n",
       "      <th>child_category_name</th>\n",
       "      <th>parent_category_id</th>\n",
       "      <th>parent_category_name</th>\n",
       "    </tr>\n",
       "  </thead>\n",
       "  <tbody>\n",
       "    <tr>\n",
       "      <th>0</th>\n",
       "      <td>11260</td>\n",
       "      <td>7927</td>\n",
       "      <td>2313</td>\n",
       "      <td>Farinha de Trigo Tipo 1 Famiglia Venturelli Pa...</td>\n",
       "      <td>482</td>\n",
       "      <td>Farinha de Trigo</td>\n",
       "      <td>214</td>\n",
       "      <td>Pai - Mercearia Básica</td>\n",
       "    </tr>\n",
       "    <tr>\n",
       "      <th>1</th>\n",
       "      <td>4270</td>\n",
       "      <td>7927</td>\n",
       "      <td>5174</td>\n",
       "      <td>Suco Concentrado Uva Dafruta Garrafa 500ml</td>\n",
       "      <td>181</td>\n",
       "      <td>Suco</td>\n",
       "      <td>180</td>\n",
       "      <td>Pai - Bebidas Não Alcoólicas</td>\n",
       "    </tr>\n",
       "    <tr>\n",
       "      <th>2</th>\n",
       "      <td>4270</td>\n",
       "      <td>7927</td>\n",
       "      <td>5174</td>\n",
       "      <td>Suco Concentrado Uva Dafruta Garrafa 500ml</td>\n",
       "      <td>181</td>\n",
       "      <td>Suco</td>\n",
       "      <td>180</td>\n",
       "      <td>Pai - Bebidas Não Alcoólicas</td>\n",
       "    </tr>\n",
       "    <tr>\n",
       "      <th>3</th>\n",
       "      <td>7471</td>\n",
       "      <td>7927</td>\n",
       "      <td>1036</td>\n",
       "      <td>Café Torrado e Moído a Vácuo 3 Corações Estrad...</td>\n",
       "      <td>303</td>\n",
       "      <td>Café</td>\n",
       "      <td>214</td>\n",
       "      <td>Pai - Mercearia Básica</td>\n",
       "    </tr>\n",
       "    <tr>\n",
       "      <th>4</th>\n",
       "      <td>4270</td>\n",
       "      <td>7927</td>\n",
       "      <td>4785</td>\n",
       "      <td>Sabonete em Barra Creme e Flor de Peônia Dove ...</td>\n",
       "      <td>195</td>\n",
       "      <td>Sabonete em Barra</td>\n",
       "      <td>182</td>\n",
       "      <td>Pai - HPC</td>\n",
       "    </tr>\n",
       "    <tr>\n",
       "      <th>...</th>\n",
       "      <td>...</td>\n",
       "      <td>...</td>\n",
       "      <td>...</td>\n",
       "      <td>...</td>\n",
       "      <td>...</td>\n",
       "      <td>...</td>\n",
       "      <td>...</td>\n",
       "      <td>...</td>\n",
       "    </tr>\n",
       "    <tr>\n",
       "      <th>373</th>\n",
       "      <td>7471</td>\n",
       "      <td>7927</td>\n",
       "      <td>2776</td>\n",
       "      <td>Iogurte Grego Banana Calda Chocolate Vigor Pot...</td>\n",
       "      <td>242</td>\n",
       "      <td>Iogurte</td>\n",
       "      <td>191</td>\n",
       "      <td>Pai - Perecíveis</td>\n",
       "    </tr>\n",
       "    <tr>\n",
       "      <th>374</th>\n",
       "      <td>7471</td>\n",
       "      <td>7927</td>\n",
       "      <td>2776</td>\n",
       "      <td>Iogurte Grego Calda Blueberry Vigor Pote 100g</td>\n",
       "      <td>242</td>\n",
       "      <td>Iogurte</td>\n",
       "      <td>191</td>\n",
       "      <td>Pai - Perecíveis</td>\n",
       "    </tr>\n",
       "    <tr>\n",
       "      <th>375</th>\n",
       "      <td>9991</td>\n",
       "      <td>7927</td>\n",
       "      <td>1039</td>\n",
       "      <td>Café Torrado e Moído Tradicional Caboclo Pacot...</td>\n",
       "      <td>303</td>\n",
       "      <td>Café</td>\n",
       "      <td>214</td>\n",
       "      <td>Pai - Mercearia Básica</td>\n",
       "    </tr>\n",
       "    <tr>\n",
       "      <th>376</th>\n",
       "      <td>7471</td>\n",
       "      <td>7927</td>\n",
       "      <td>2776</td>\n",
       "      <td>Iogurte Grego Flocos de Caramelo Vigor Loucos ...</td>\n",
       "      <td>242</td>\n",
       "      <td>Iogurte</td>\n",
       "      <td>191</td>\n",
       "      <td>Pai - Perecíveis</td>\n",
       "    </tr>\n",
       "    <tr>\n",
       "      <th>377</th>\n",
       "      <td>7471</td>\n",
       "      <td>7927</td>\n",
       "      <td>2776</td>\n",
       "      <td>Iogurte Grego Flocos de Caramelo Vigor Loucos ...</td>\n",
       "      <td>242</td>\n",
       "      <td>Iogurte</td>\n",
       "      <td>191</td>\n",
       "      <td>Pai - Perecíveis</td>\n",
       "    </tr>\n",
       "  </tbody>\n",
       "</table>\n",
       "<p>378 rows × 8 columns</p>\n",
       "</div>"
      ],
      "text/plain": [
       "     order_id  customer_id  int_itens_comp  \\\n",
       "0       11260         7927            2313   \n",
       "1        4270         7927            5174   \n",
       "2        4270         7927            5174   \n",
       "3        7471         7927            1036   \n",
       "4        4270         7927            4785   \n",
       "..        ...          ...             ...   \n",
       "373      7471         7927            2776   \n",
       "374      7471         7927            2776   \n",
       "375      9991         7927            1039   \n",
       "376      7471         7927            2776   \n",
       "377      7471         7927            2776   \n",
       "\n",
       "                                          product_name  child_category_id  \\\n",
       "0    Farinha de Trigo Tipo 1 Famiglia Venturelli Pa...                482   \n",
       "1           Suco Concentrado Uva Dafruta Garrafa 500ml                181   \n",
       "2           Suco Concentrado Uva Dafruta Garrafa 500ml                181   \n",
       "3    Café Torrado e Moído a Vácuo 3 Corações Estrad...                303   \n",
       "4    Sabonete em Barra Creme e Flor de Peônia Dove ...                195   \n",
       "..                                                 ...                ...   \n",
       "373  Iogurte Grego Banana Calda Chocolate Vigor Pot...                242   \n",
       "374      Iogurte Grego Calda Blueberry Vigor Pote 100g                242   \n",
       "375  Café Torrado e Moído Tradicional Caboclo Pacot...                303   \n",
       "376  Iogurte Grego Flocos de Caramelo Vigor Loucos ...                242   \n",
       "377  Iogurte Grego Flocos de Caramelo Vigor Loucos ...                242   \n",
       "\n",
       "    child_category_name  parent_category_id          parent_category_name  \n",
       "0      Farinha de Trigo                 214        Pai - Mercearia Básica  \n",
       "1                  Suco                 180  Pai - Bebidas Não Alcoólicas  \n",
       "2                  Suco                 180  Pai - Bebidas Não Alcoólicas  \n",
       "3                  Café                 214        Pai - Mercearia Básica  \n",
       "4     Sabonete em Barra                 182                     Pai - HPC  \n",
       "..                  ...                 ...                           ...  \n",
       "373             Iogurte                 191              Pai - Perecíveis  \n",
       "374             Iogurte                 191              Pai - Perecíveis  \n",
       "375                Café                 214        Pai - Mercearia Básica  \n",
       "376             Iogurte                 191              Pai - Perecíveis  \n",
       "377             Iogurte                 191              Pai - Perecíveis  \n",
       "\n",
       "[378 rows x 8 columns]"
      ]
     },
     "execution_count": 87,
     "metadata": {},
     "output_type": "execute_result"
    }
   ],
   "source": [
    "# função para saber todos os ítens comprados por um cliente\n",
    "\n",
    "def customer_compra(id_client):\n",
    "    #self.id_client = id_client\n",
    "    result = df[df[\"customer_id\"] == id_client]\n",
    "    return result\n",
    "\n",
    "customer_compra(7927)"
   ]
  },
  {
   "cell_type": "code",
   "execution_count": 89,
   "metadata": {},
   "outputs": [
    {
     "data": {
      "text/html": [
       "<div>\n",
       "<style scoped>\n",
       "    .dataframe tbody tr th:only-of-type {\n",
       "        vertical-align: middle;\n",
       "    }\n",
       "\n",
       "    .dataframe tbody tr th {\n",
       "        vertical-align: top;\n",
       "    }\n",
       "\n",
       "    .dataframe thead th {\n",
       "        text-align: right;\n",
       "    }\n",
       "</style>\n",
       "<table border=\"1\" class=\"dataframe\">\n",
       "  <thead>\n",
       "    <tr style=\"text-align: right;\">\n",
       "      <th></th>\n",
       "      <th>order_id</th>\n",
       "      <th>customer_id</th>\n",
       "      <th>int_itens_comp</th>\n",
       "      <th>product_name</th>\n",
       "      <th>child_category_id</th>\n",
       "      <th>child_category_name</th>\n",
       "      <th>parent_category_id</th>\n",
       "      <th>parent_category_name</th>\n",
       "    </tr>\n",
       "  </thead>\n",
       "  <tbody>\n",
       "    <tr>\n",
       "      <th>0</th>\n",
       "      <td>11260</td>\n",
       "      <td>7927</td>\n",
       "      <td>2313</td>\n",
       "      <td>Farinha de Trigo Tipo 1 Famiglia Venturelli Pa...</td>\n",
       "      <td>482</td>\n",
       "      <td>Farinha de Trigo</td>\n",
       "      <td>214</td>\n",
       "      <td>Pai - Mercearia Básica</td>\n",
       "    </tr>\n",
       "    <tr>\n",
       "      <th>147</th>\n",
       "      <td>9991</td>\n",
       "      <td>7927</td>\n",
       "      <td>2313</td>\n",
       "      <td>Farinha de Trigo Tipo 1 Famiglia Venturelli Pa...</td>\n",
       "      <td>482</td>\n",
       "      <td>Farinha de Trigo</td>\n",
       "      <td>214</td>\n",
       "      <td>Pai - Mercearia Básica</td>\n",
       "    </tr>\n",
       "    <tr>\n",
       "      <th>262</th>\n",
       "      <td>4270</td>\n",
       "      <td>7927</td>\n",
       "      <td>2313</td>\n",
       "      <td>Farinha de Trigo Tipo 1 Famiglia Venturelli Pa...</td>\n",
       "      <td>482</td>\n",
       "      <td>Farinha de Trigo</td>\n",
       "      <td>214</td>\n",
       "      <td>Pai - Mercearia Básica</td>\n",
       "    </tr>\n",
       "    <tr>\n",
       "      <th>1287</th>\n",
       "      <td>9576</td>\n",
       "      <td>8086</td>\n",
       "      <td>2313</td>\n",
       "      <td>Farinha de Trigo Tipo 1 Famiglia Venturelli Pa...</td>\n",
       "      <td>482</td>\n",
       "      <td>Farinha de Trigo</td>\n",
       "      <td>214</td>\n",
       "      <td>Pai - Mercearia Básica</td>\n",
       "    </tr>\n",
       "    <tr>\n",
       "      <th>1288</th>\n",
       "      <td>9576</td>\n",
       "      <td>8086</td>\n",
       "      <td>2313</td>\n",
       "      <td>Farinha de Trigo Tipo 1 Famiglia Venturelli Pa...</td>\n",
       "      <td>482</td>\n",
       "      <td>Farinha de Trigo</td>\n",
       "      <td>214</td>\n",
       "      <td>Pai - Mercearia Básica</td>\n",
       "    </tr>\n",
       "    <tr>\n",
       "      <th>...</th>\n",
       "      <td>...</td>\n",
       "      <td>...</td>\n",
       "      <td>...</td>\n",
       "      <td>...</td>\n",
       "      <td>...</td>\n",
       "      <td>...</td>\n",
       "      <td>...</td>\n",
       "      <td>...</td>\n",
       "    </tr>\n",
       "    <tr>\n",
       "      <th>372390</th>\n",
       "      <td>9769</td>\n",
       "      <td>61640</td>\n",
       "      <td>2313</td>\n",
       "      <td>Farinha de Trigo Tipo 1 Famiglia Venturelli Pa...</td>\n",
       "      <td>482</td>\n",
       "      <td>Farinha de Trigo</td>\n",
       "      <td>214</td>\n",
       "      <td>Pai - Mercearia Básica</td>\n",
       "    </tr>\n",
       "    <tr>\n",
       "      <th>372393</th>\n",
       "      <td>9769</td>\n",
       "      <td>61640</td>\n",
       "      <td>2313</td>\n",
       "      <td>Farinha de Trigo Tipo 1 Famiglia Venturelli Pa...</td>\n",
       "      <td>482</td>\n",
       "      <td>Farinha de Trigo</td>\n",
       "      <td>214</td>\n",
       "      <td>Pai - Mercearia Básica</td>\n",
       "    </tr>\n",
       "    <tr>\n",
       "      <th>372395</th>\n",
       "      <td>9769</td>\n",
       "      <td>61640</td>\n",
       "      <td>2313</td>\n",
       "      <td>Farinha de Trigo Tipo 1 Famiglia Venturelli Pa...</td>\n",
       "      <td>482</td>\n",
       "      <td>Farinha de Trigo</td>\n",
       "      <td>214</td>\n",
       "      <td>Pai - Mercearia Básica</td>\n",
       "    </tr>\n",
       "    <tr>\n",
       "      <th>372396</th>\n",
       "      <td>9769</td>\n",
       "      <td>61640</td>\n",
       "      <td>2313</td>\n",
       "      <td>Farinha de Trigo Tipo 1 Famiglia Venturelli Pa...</td>\n",
       "      <td>482</td>\n",
       "      <td>Farinha de Trigo</td>\n",
       "      <td>214</td>\n",
       "      <td>Pai - Mercearia Básica</td>\n",
       "    </tr>\n",
       "    <tr>\n",
       "      <th>372424</th>\n",
       "      <td>6821</td>\n",
       "      <td>61640</td>\n",
       "      <td>2313</td>\n",
       "      <td>Farinha de Trigo Tipo 1 Famiglia Venturelli Pa...</td>\n",
       "      <td>482</td>\n",
       "      <td>Farinha de Trigo</td>\n",
       "      <td>214</td>\n",
       "      <td>Pai - Mercearia Básica</td>\n",
       "    </tr>\n",
       "  </tbody>\n",
       "</table>\n",
       "<p>933 rows × 8 columns</p>\n",
       "</div>"
      ],
      "text/plain": [
       "        order_id  customer_id  int_itens_comp  \\\n",
       "0          11260         7927            2313   \n",
       "147         9991         7927            2313   \n",
       "262         4270         7927            2313   \n",
       "1287        9576         8086            2313   \n",
       "1288        9576         8086            2313   \n",
       "...          ...          ...             ...   \n",
       "372390      9769        61640            2313   \n",
       "372393      9769        61640            2313   \n",
       "372395      9769        61640            2313   \n",
       "372396      9769        61640            2313   \n",
       "372424      6821        61640            2313   \n",
       "\n",
       "                                             product_name  child_category_id  \\\n",
       "0       Farinha de Trigo Tipo 1 Famiglia Venturelli Pa...                482   \n",
       "147     Farinha de Trigo Tipo 1 Famiglia Venturelli Pa...                482   \n",
       "262     Farinha de Trigo Tipo 1 Famiglia Venturelli Pa...                482   \n",
       "1287    Farinha de Trigo Tipo 1 Famiglia Venturelli Pa...                482   \n",
       "1288    Farinha de Trigo Tipo 1 Famiglia Venturelli Pa...                482   \n",
       "...                                                   ...                ...   \n",
       "372390  Farinha de Trigo Tipo 1 Famiglia Venturelli Pa...                482   \n",
       "372393  Farinha de Trigo Tipo 1 Famiglia Venturelli Pa...                482   \n",
       "372395  Farinha de Trigo Tipo 1 Famiglia Venturelli Pa...                482   \n",
       "372396  Farinha de Trigo Tipo 1 Famiglia Venturelli Pa...                482   \n",
       "372424  Farinha de Trigo Tipo 1 Famiglia Venturelli Pa...                482   \n",
       "\n",
       "       child_category_name  parent_category_id    parent_category_name  \n",
       "0         Farinha de Trigo                 214  Pai - Mercearia Básica  \n",
       "147       Farinha de Trigo                 214  Pai - Mercearia Básica  \n",
       "262       Farinha de Trigo                 214  Pai - Mercearia Básica  \n",
       "1287      Farinha de Trigo                 214  Pai - Mercearia Básica  \n",
       "1288      Farinha de Trigo                 214  Pai - Mercearia Básica  \n",
       "...                    ...                 ...                     ...  \n",
       "372390    Farinha de Trigo                 214  Pai - Mercearia Básica  \n",
       "372393    Farinha de Trigo                 214  Pai - Mercearia Básica  \n",
       "372395    Farinha de Trigo                 214  Pai - Mercearia Básica  \n",
       "372396    Farinha de Trigo                 214  Pai - Mercearia Básica  \n",
       "372424    Farinha de Trigo                 214  Pai - Mercearia Básica  \n",
       "\n",
       "[933 rows x 8 columns]"
      ]
     },
     "execution_count": 89,
     "metadata": {},
     "output_type": "execute_result"
    }
   ],
   "source": [
    "# função para saber informações sobre o Produto\n",
    "\n",
    "def product_info(id_iten):\n",
    "    result = df[df[\"int_itens_comp\"] == id_iten]\n",
    "    return result\n",
    "\n",
    "product_info(2313)"
   ]
  },
  {
   "cell_type": "code",
   "execution_count": 86,
   "metadata": {},
   "outputs": [
    {
     "data": {
      "text/html": [
       "<div>\n",
       "<style scoped>\n",
       "    .dataframe tbody tr th:only-of-type {\n",
       "        vertical-align: middle;\n",
       "    }\n",
       "\n",
       "    .dataframe tbody tr th {\n",
       "        vertical-align: top;\n",
       "    }\n",
       "\n",
       "    .dataframe thead th {\n",
       "        text-align: right;\n",
       "    }\n",
       "</style>\n",
       "<table border=\"1\" class=\"dataframe\">\n",
       "  <thead>\n",
       "    <tr style=\"text-align: right;\">\n",
       "      <th></th>\n",
       "      <th>order_id</th>\n",
       "      <th>customer_id</th>\n",
       "      <th>int_itens_comp</th>\n",
       "      <th>product_name</th>\n",
       "      <th>child_category_id</th>\n",
       "      <th>child_category_name</th>\n",
       "      <th>parent_category_id</th>\n",
       "      <th>parent_category_name</th>\n",
       "    </tr>\n",
       "  </thead>\n",
       "  <tbody>\n",
       "    <tr>\n",
       "      <th>1</th>\n",
       "      <td>4270</td>\n",
       "      <td>7927</td>\n",
       "      <td>5174</td>\n",
       "      <td>Suco Concentrado Uva Dafruta Garrafa 500ml</td>\n",
       "      <td>181</td>\n",
       "      <td>Suco</td>\n",
       "      <td>180</td>\n",
       "      <td>Pai - Bebidas Não Alcoólicas</td>\n",
       "    </tr>\n",
       "    <tr>\n",
       "      <th>2</th>\n",
       "      <td>4270</td>\n",
       "      <td>7927</td>\n",
       "      <td>5174</td>\n",
       "      <td>Suco Concentrado Uva Dafruta Garrafa 500ml</td>\n",
       "      <td>181</td>\n",
       "      <td>Suco</td>\n",
       "      <td>180</td>\n",
       "      <td>Pai - Bebidas Não Alcoólicas</td>\n",
       "    </tr>\n",
       "    <tr>\n",
       "      <th>13</th>\n",
       "      <td>5434</td>\n",
       "      <td>7927</td>\n",
       "      <td>5174</td>\n",
       "      <td>Suco Concentrado Goiaba Dafruta Garrafa 500ml</td>\n",
       "      <td>181</td>\n",
       "      <td>Suco</td>\n",
       "      <td>180</td>\n",
       "      <td>Pai - Bebidas Não Alcoólicas</td>\n",
       "    </tr>\n",
       "    <tr>\n",
       "      <th>29</th>\n",
       "      <td>4270</td>\n",
       "      <td>7927</td>\n",
       "      <td>5174</td>\n",
       "      <td>Suco Concentrado Goiaba Dafruta Garrafa 500ml</td>\n",
       "      <td>181</td>\n",
       "      <td>Suco</td>\n",
       "      <td>180</td>\n",
       "      <td>Pai - Bebidas Não Alcoólicas</td>\n",
       "    </tr>\n",
       "    <tr>\n",
       "      <th>45</th>\n",
       "      <td>5434</td>\n",
       "      <td>7927</td>\n",
       "      <td>5174</td>\n",
       "      <td>Suco Concentrado Uva Dafruta Garrafa 500ml</td>\n",
       "      <td>181</td>\n",
       "      <td>Suco</td>\n",
       "      <td>180</td>\n",
       "      <td>Pai - Bebidas Não Alcoólicas</td>\n",
       "    </tr>\n",
       "    <tr>\n",
       "      <th>...</th>\n",
       "      <td>...</td>\n",
       "      <td>...</td>\n",
       "      <td>...</td>\n",
       "      <td>...</td>\n",
       "      <td>...</td>\n",
       "      <td>...</td>\n",
       "      <td>...</td>\n",
       "      <td>...</td>\n",
       "    </tr>\n",
       "    <tr>\n",
       "      <th>372868</th>\n",
       "      <td>6610</td>\n",
       "      <td>61643</td>\n",
       "      <td>4680</td>\n",
       "      <td>Refrigerante Limão Sprite Garrafa 2l</td>\n",
       "      <td>394</td>\n",
       "      <td>Refrigerante</td>\n",
       "      <td>180</td>\n",
       "      <td>Pai - Bebidas Não Alcoólicas</td>\n",
       "    </tr>\n",
       "    <tr>\n",
       "      <th>372871</th>\n",
       "      <td>4432</td>\n",
       "      <td>61643</td>\n",
       "      <td>4581</td>\n",
       "      <td>Refresco em Pó Laranja e Limão Tang Nosso Mix ...</td>\n",
       "      <td>181</td>\n",
       "      <td>Suco</td>\n",
       "      <td>180</td>\n",
       "      <td>Pai - Bebidas Não Alcoólicas</td>\n",
       "    </tr>\n",
       "    <tr>\n",
       "      <th>372878</th>\n",
       "      <td>4432</td>\n",
       "      <td>61643</td>\n",
       "      <td>4581</td>\n",
       "      <td>Refresco em Pó Abacaxi Tang Pacote 25g</td>\n",
       "      <td>181</td>\n",
       "      <td>Suco</td>\n",
       "      <td>180</td>\n",
       "      <td>Pai - Bebidas Não Alcoólicas</td>\n",
       "    </tr>\n",
       "    <tr>\n",
       "      <th>372888</th>\n",
       "      <td>4432</td>\n",
       "      <td>61643</td>\n",
       "      <td>4581</td>\n",
       "      <td>Refresco em Pó Abacaxi Tang Pacote 25g</td>\n",
       "      <td>181</td>\n",
       "      <td>Suco</td>\n",
       "      <td>180</td>\n",
       "      <td>Pai - Bebidas Não Alcoólicas</td>\n",
       "    </tr>\n",
       "    <tr>\n",
       "      <th>372891</th>\n",
       "      <td>4432</td>\n",
       "      <td>61643</td>\n",
       "      <td>4581</td>\n",
       "      <td>Refresco em Pó Abacaxi Tang Pacote 25g</td>\n",
       "      <td>181</td>\n",
       "      <td>Suco</td>\n",
       "      <td>180</td>\n",
       "      <td>Pai - Bebidas Não Alcoólicas</td>\n",
       "    </tr>\n",
       "  </tbody>\n",
       "</table>\n",
       "<p>61084 rows × 8 columns</p>\n",
       "</div>"
      ],
      "text/plain": [
       "        order_id  customer_id  int_itens_comp  \\\n",
       "1           4270         7927            5174   \n",
       "2           4270         7927            5174   \n",
       "13          5434         7927            5174   \n",
       "29          4270         7927            5174   \n",
       "45          5434         7927            5174   \n",
       "...          ...          ...             ...   \n",
       "372868      6610        61643            4680   \n",
       "372871      4432        61643            4581   \n",
       "372878      4432        61643            4581   \n",
       "372888      4432        61643            4581   \n",
       "372891      4432        61643            4581   \n",
       "\n",
       "                                             product_name  child_category_id  \\\n",
       "1              Suco Concentrado Uva Dafruta Garrafa 500ml                181   \n",
       "2              Suco Concentrado Uva Dafruta Garrafa 500ml                181   \n",
       "13          Suco Concentrado Goiaba Dafruta Garrafa 500ml                181   \n",
       "29          Suco Concentrado Goiaba Dafruta Garrafa 500ml                181   \n",
       "45             Suco Concentrado Uva Dafruta Garrafa 500ml                181   \n",
       "...                                                   ...                ...   \n",
       "372868               Refrigerante Limão Sprite Garrafa 2l                394   \n",
       "372871  Refresco em Pó Laranja e Limão Tang Nosso Mix ...                181   \n",
       "372878             Refresco em Pó Abacaxi Tang Pacote 25g                181   \n",
       "372888             Refresco em Pó Abacaxi Tang Pacote 25g                181   \n",
       "372891             Refresco em Pó Abacaxi Tang Pacote 25g                181   \n",
       "\n",
       "       child_category_name  parent_category_id          parent_category_name  \n",
       "1                     Suco                 180  Pai - Bebidas Não Alcoólicas  \n",
       "2                     Suco                 180  Pai - Bebidas Não Alcoólicas  \n",
       "13                    Suco                 180  Pai - Bebidas Não Alcoólicas  \n",
       "29                    Suco                 180  Pai - Bebidas Não Alcoólicas  \n",
       "45                    Suco                 180  Pai - Bebidas Não Alcoólicas  \n",
       "...                    ...                 ...                           ...  \n",
       "372868        Refrigerante                 180  Pai - Bebidas Não Alcoólicas  \n",
       "372871                Suco                 180  Pai - Bebidas Não Alcoólicas  \n",
       "372878                Suco                 180  Pai - Bebidas Não Alcoólicas  \n",
       "372888                Suco                 180  Pai - Bebidas Não Alcoólicas  \n",
       "372891                Suco                 180  Pai - Bebidas Não Alcoólicas  \n",
       "\n",
       "[61084 rows x 8 columns]"
      ]
     },
     "execution_count": 86,
     "metadata": {},
     "output_type": "execute_result"
    }
   ],
   "source": [
    "# função para saber todos os ítens por categoria Pai\n",
    "\n",
    "def customer_compra(id_compra):\n",
    "    result = df[df[\"parent_category_id\"] == id_compra]\n",
    "    return result\n",
    "\n",
    "customer_compra(180)"
   ]
  },
  {
   "cell_type": "code",
   "execution_count": 23,
   "metadata": {},
   "outputs": [],
   "source": [
    "# Criando uma tabela com usuario, id da categoria Pai e a quantidade de compras por usuário\n",
    "data = pd.melt(df.set_index('customer_id')['parent_category_id'].apply(pd.Series).reset_index(), id_vars=['customer_id'],\n",
    "             value_name='parent_category_id') \\\n",
    "    .dropna().drop(['variable'], axis=1) \\\n",
    "    .groupby(['customer_id', 'parent_category_id']) \\\n",
    "    .agg({'parent_category_id': 'count'}) \\\n",
    "    .rename(columns={'parent_category_id': 'purchase_count'}) \\\n",
    "    .reset_index() \\\n",
    "    .rename(columns={'parent_category_id': 'productId'})\n",
    "data['productId'] = data['productId'].astype(np.int64)"
   ]
  },
  {
   "cell_type": "code",
   "execution_count": 24,
   "metadata": {},
   "outputs": [
    {
     "data": {
      "text/html": [
       "<div>\n",
       "<style scoped>\n",
       "    .dataframe tbody tr th:only-of-type {\n",
       "        vertical-align: middle;\n",
       "    }\n",
       "\n",
       "    .dataframe tbody tr th {\n",
       "        vertical-align: top;\n",
       "    }\n",
       "\n",
       "    .dataframe thead th {\n",
       "        text-align: right;\n",
       "    }\n",
       "</style>\n",
       "<table border=\"1\" class=\"dataframe\">\n",
       "  <thead>\n",
       "    <tr style=\"text-align: right;\">\n",
       "      <th></th>\n",
       "      <th>customer_id</th>\n",
       "      <th>productId</th>\n",
       "      <th>purchase_count</th>\n",
       "    </tr>\n",
       "  </thead>\n",
       "  <tbody>\n",
       "    <tr>\n",
       "      <th>0</th>\n",
       "      <td>7927</td>\n",
       "      <td>180</td>\n",
       "      <td>15</td>\n",
       "    </tr>\n",
       "    <tr>\n",
       "      <th>1</th>\n",
       "      <td>7927</td>\n",
       "      <td>182</td>\n",
       "      <td>76</td>\n",
       "    </tr>\n",
       "    <tr>\n",
       "      <th>2</th>\n",
       "      <td>7927</td>\n",
       "      <td>185</td>\n",
       "      <td>42</td>\n",
       "    </tr>\n",
       "    <tr>\n",
       "      <th>3</th>\n",
       "      <td>7927</td>\n",
       "      <td>191</td>\n",
       "      <td>108</td>\n",
       "    </tr>\n",
       "    <tr>\n",
       "      <th>4</th>\n",
       "      <td>7927</td>\n",
       "      <td>211</td>\n",
       "      <td>1</td>\n",
       "    </tr>\n",
       "    <tr>\n",
       "      <th>...</th>\n",
       "      <td>...</td>\n",
       "      <td>...</td>\n",
       "      <td>...</td>\n",
       "    </tr>\n",
       "    <tr>\n",
       "      <th>5142</th>\n",
       "      <td>61643</td>\n",
       "      <td>211</td>\n",
       "      <td>1</td>\n",
       "    </tr>\n",
       "    <tr>\n",
       "      <th>5143</th>\n",
       "      <td>61643</td>\n",
       "      <td>214</td>\n",
       "      <td>70</td>\n",
       "    </tr>\n",
       "    <tr>\n",
       "      <th>5144</th>\n",
       "      <td>61643</td>\n",
       "      <td>216</td>\n",
       "      <td>21</td>\n",
       "    </tr>\n",
       "    <tr>\n",
       "      <th>5145</th>\n",
       "      <td>61661</td>\n",
       "      <td>185</td>\n",
       "      <td>72</td>\n",
       "    </tr>\n",
       "    <tr>\n",
       "      <th>5146</th>\n",
       "      <td>61661</td>\n",
       "      <td>211</td>\n",
       "      <td>15</td>\n",
       "    </tr>\n",
       "  </tbody>\n",
       "</table>\n",
       "<p>5147 rows × 3 columns</p>\n",
       "</div>"
      ],
      "text/plain": [
       "      customer_id  productId  purchase_count\n",
       "0            7927        180              15\n",
       "1            7927        182              76\n",
       "2            7927        185              42\n",
       "3            7927        191             108\n",
       "4            7927        211               1\n",
       "...           ...        ...             ...\n",
       "5142        61643        211               1\n",
       "5143        61643        214              70\n",
       "5144        61643        216              21\n",
       "5145        61661        185              72\n",
       "5146        61661        211              15\n",
       "\n",
       "[5147 rows x 3 columns]"
      ]
     },
     "execution_count": 24,
     "metadata": {},
     "output_type": "execute_result"
    }
   ],
   "source": [
    "data"
   ]
  },
  {
   "cell_type": "code",
   "execution_count": 30,
   "metadata": {},
   "outputs": [
    {
     "data": {
      "text/html": [
       "<div>\n",
       "<style scoped>\n",
       "    .dataframe tbody tr th:only-of-type {\n",
       "        vertical-align: middle;\n",
       "    }\n",
       "\n",
       "    .dataframe tbody tr th {\n",
       "        vertical-align: top;\n",
       "    }\n",
       "\n",
       "    .dataframe thead th {\n",
       "        text-align: right;\n",
       "    }\n",
       "</style>\n",
       "<table border=\"1\" class=\"dataframe\">\n",
       "  <thead>\n",
       "    <tr style=\"text-align: right;\">\n",
       "      <th>productId</th>\n",
       "      <th>180</th>\n",
       "      <th>182</th>\n",
       "      <th>185</th>\n",
       "      <th>191</th>\n",
       "      <th>211</th>\n",
       "      <th>214</th>\n",
       "      <th>216</th>\n",
       "      <th>275</th>\n",
       "      <th>282</th>\n",
       "      <th>526</th>\n",
       "    </tr>\n",
       "    <tr>\n",
       "      <th>customer_id</th>\n",
       "      <th></th>\n",
       "      <th></th>\n",
       "      <th></th>\n",
       "      <th></th>\n",
       "      <th></th>\n",
       "      <th></th>\n",
       "      <th></th>\n",
       "      <th></th>\n",
       "      <th></th>\n",
       "      <th></th>\n",
       "    </tr>\n",
       "  </thead>\n",
       "  <tbody>\n",
       "    <tr>\n",
       "      <th>7927</th>\n",
       "      <td>15.0</td>\n",
       "      <td>76.0</td>\n",
       "      <td>42.0</td>\n",
       "      <td>108.0</td>\n",
       "      <td>1.0</td>\n",
       "      <td>85.0</td>\n",
       "      <td>51.0</td>\n",
       "      <td>NaN</td>\n",
       "      <td>NaN</td>\n",
       "      <td>NaN</td>\n",
       "    </tr>\n",
       "    <tr>\n",
       "      <th>7952</th>\n",
       "      <td>6.0</td>\n",
       "      <td>NaN</td>\n",
       "      <td>13.0</td>\n",
       "      <td>1.0</td>\n",
       "      <td>4.0</td>\n",
       "      <td>19.0</td>\n",
       "      <td>9.0</td>\n",
       "      <td>NaN</td>\n",
       "      <td>NaN</td>\n",
       "      <td>NaN</td>\n",
       "    </tr>\n",
       "    <tr>\n",
       "      <th>8037</th>\n",
       "      <td>NaN</td>\n",
       "      <td>NaN</td>\n",
       "      <td>2.0</td>\n",
       "      <td>8.0</td>\n",
       "      <td>3.0</td>\n",
       "      <td>22.0</td>\n",
       "      <td>6.0</td>\n",
       "      <td>NaN</td>\n",
       "      <td>NaN</td>\n",
       "      <td>NaN</td>\n",
       "    </tr>\n",
       "    <tr>\n",
       "      <th>8079</th>\n",
       "      <td>NaN</td>\n",
       "      <td>NaN</td>\n",
       "      <td>NaN</td>\n",
       "      <td>NaN</td>\n",
       "      <td>NaN</td>\n",
       "      <td>3.0</td>\n",
       "      <td>NaN</td>\n",
       "      <td>NaN</td>\n",
       "      <td>NaN</td>\n",
       "      <td>NaN</td>\n",
       "    </tr>\n",
       "    <tr>\n",
       "      <th>8086</th>\n",
       "      <td>841.0</td>\n",
       "      <td>175.0</td>\n",
       "      <td>139.0</td>\n",
       "      <td>54.0</td>\n",
       "      <td>12.0</td>\n",
       "      <td>275.0</td>\n",
       "      <td>256.0</td>\n",
       "      <td>NaN</td>\n",
       "      <td>NaN</td>\n",
       "      <td>NaN</td>\n",
       "    </tr>\n",
       "    <tr>\n",
       "      <th>...</th>\n",
       "      <td>...</td>\n",
       "      <td>...</td>\n",
       "      <td>...</td>\n",
       "      <td>...</td>\n",
       "      <td>...</td>\n",
       "      <td>...</td>\n",
       "      <td>...</td>\n",
       "      <td>...</td>\n",
       "      <td>...</td>\n",
       "      <td>...</td>\n",
       "    </tr>\n",
       "    <tr>\n",
       "      <th>61625</th>\n",
       "      <td>555.0</td>\n",
       "      <td>561.0</td>\n",
       "      <td>574.0</td>\n",
       "      <td>333.0</td>\n",
       "      <td>10.0</td>\n",
       "      <td>343.0</td>\n",
       "      <td>776.0</td>\n",
       "      <td>1.0</td>\n",
       "      <td>1.0</td>\n",
       "      <td>NaN</td>\n",
       "    </tr>\n",
       "    <tr>\n",
       "      <th>61631</th>\n",
       "      <td>NaN</td>\n",
       "      <td>452.0</td>\n",
       "      <td>33.0</td>\n",
       "      <td>NaN</td>\n",
       "      <td>8.0</td>\n",
       "      <td>213.0</td>\n",
       "      <td>88.0</td>\n",
       "      <td>NaN</td>\n",
       "      <td>NaN</td>\n",
       "      <td>NaN</td>\n",
       "    </tr>\n",
       "    <tr>\n",
       "      <th>61640</th>\n",
       "      <td>61.0</td>\n",
       "      <td>16.0</td>\n",
       "      <td>8.0</td>\n",
       "      <td>NaN</td>\n",
       "      <td>NaN</td>\n",
       "      <td>24.0</td>\n",
       "      <td>40.0</td>\n",
       "      <td>NaN</td>\n",
       "      <td>NaN</td>\n",
       "      <td>NaN</td>\n",
       "    </tr>\n",
       "    <tr>\n",
       "      <th>61643</th>\n",
       "      <td>44.0</td>\n",
       "      <td>272.0</td>\n",
       "      <td>30.0</td>\n",
       "      <td>11.0</td>\n",
       "      <td>1.0</td>\n",
       "      <td>70.0</td>\n",
       "      <td>21.0</td>\n",
       "      <td>NaN</td>\n",
       "      <td>NaN</td>\n",
       "      <td>NaN</td>\n",
       "    </tr>\n",
       "    <tr>\n",
       "      <th>61661</th>\n",
       "      <td>NaN</td>\n",
       "      <td>NaN</td>\n",
       "      <td>72.0</td>\n",
       "      <td>NaN</td>\n",
       "      <td>15.0</td>\n",
       "      <td>NaN</td>\n",
       "      <td>NaN</td>\n",
       "      <td>NaN</td>\n",
       "      <td>NaN</td>\n",
       "      <td>NaN</td>\n",
       "    </tr>\n",
       "  </tbody>\n",
       "</table>\n",
       "<p>922 rows × 10 columns</p>\n",
       "</div>"
      ],
      "text/plain": [
       "productId      180    182    185    191   211    214    216  275  282  526\n",
       "customer_id                                                               \n",
       "7927          15.0   76.0   42.0  108.0   1.0   85.0   51.0  NaN  NaN  NaN\n",
       "7952           6.0    NaN   13.0    1.0   4.0   19.0    9.0  NaN  NaN  NaN\n",
       "8037           NaN    NaN    2.0    8.0   3.0   22.0    6.0  NaN  NaN  NaN\n",
       "8079           NaN    NaN    NaN    NaN   NaN    3.0    NaN  NaN  NaN  NaN\n",
       "8086         841.0  175.0  139.0   54.0  12.0  275.0  256.0  NaN  NaN  NaN\n",
       "...            ...    ...    ...    ...   ...    ...    ...  ...  ...  ...\n",
       "61625        555.0  561.0  574.0  333.0  10.0  343.0  776.0  1.0  1.0  NaN\n",
       "61631          NaN  452.0   33.0    NaN   8.0  213.0   88.0  NaN  NaN  NaN\n",
       "61640         61.0   16.0    8.0    NaN   NaN   24.0   40.0  NaN  NaN  NaN\n",
       "61643         44.0  272.0   30.0   11.0   1.0   70.0   21.0  NaN  NaN  NaN\n",
       "61661          NaN    NaN   72.0    NaN  15.0    NaN    NaN  NaN  NaN  NaN\n",
       "\n",
       "[922 rows x 10 columns]"
      ]
     },
     "execution_count": 30,
     "metadata": {},
     "output_type": "execute_result"
    }
   ],
   "source": [
    "df_matrix = pd.pivot_table(data, values='purchase_count', index='customer_id', columns='productId')\n",
    "df_matrix"
   ]
  },
  {
   "cell_type": "code",
   "execution_count": 44,
   "metadata": {},
   "outputs": [
    {
     "data": {
      "text/html": [
       "<div>\n",
       "<style scoped>\n",
       "    .dataframe tbody tr th:only-of-type {\n",
       "        vertical-align: middle;\n",
       "    }\n",
       "\n",
       "    .dataframe tbody tr th {\n",
       "        vertical-align: top;\n",
       "    }\n",
       "\n",
       "    .dataframe thead th {\n",
       "        text-align: right;\n",
       "    }\n",
       "</style>\n",
       "<table border=\"1\" class=\"dataframe\">\n",
       "  <thead>\n",
       "    <tr style=\"text-align: right;\">\n",
       "      <th>productId</th>\n",
       "      <th>180</th>\n",
       "      <th>182</th>\n",
       "      <th>185</th>\n",
       "      <th>191</th>\n",
       "      <th>211</th>\n",
       "      <th>214</th>\n",
       "      <th>216</th>\n",
       "      <th>275</th>\n",
       "      <th>282</th>\n",
       "      <th>526</th>\n",
       "    </tr>\n",
       "    <tr>\n",
       "      <th>customer_id</th>\n",
       "      <th></th>\n",
       "      <th></th>\n",
       "      <th></th>\n",
       "      <th></th>\n",
       "      <th></th>\n",
       "      <th></th>\n",
       "      <th></th>\n",
       "      <th></th>\n",
       "      <th></th>\n",
       "      <th></th>\n",
       "    </tr>\n",
       "  </thead>\n",
       "  <tbody>\n",
       "    <tr>\n",
       "      <th>7927</th>\n",
       "      <td>15.0</td>\n",
       "      <td>76.0</td>\n",
       "      <td>42.0</td>\n",
       "      <td>108.0</td>\n",
       "      <td>1.0</td>\n",
       "      <td>85.0</td>\n",
       "      <td>51.0</td>\n",
       "      <td>0.0</td>\n",
       "      <td>0.0</td>\n",
       "      <td>0.0</td>\n",
       "    </tr>\n",
       "    <tr>\n",
       "      <th>7952</th>\n",
       "      <td>6.0</td>\n",
       "      <td>0.0</td>\n",
       "      <td>13.0</td>\n",
       "      <td>1.0</td>\n",
       "      <td>4.0</td>\n",
       "      <td>19.0</td>\n",
       "      <td>9.0</td>\n",
       "      <td>0.0</td>\n",
       "      <td>0.0</td>\n",
       "      <td>0.0</td>\n",
       "    </tr>\n",
       "    <tr>\n",
       "      <th>8037</th>\n",
       "      <td>0.0</td>\n",
       "      <td>0.0</td>\n",
       "      <td>2.0</td>\n",
       "      <td>8.0</td>\n",
       "      <td>3.0</td>\n",
       "      <td>22.0</td>\n",
       "      <td>6.0</td>\n",
       "      <td>0.0</td>\n",
       "      <td>0.0</td>\n",
       "      <td>0.0</td>\n",
       "    </tr>\n",
       "    <tr>\n",
       "      <th>8079</th>\n",
       "      <td>0.0</td>\n",
       "      <td>0.0</td>\n",
       "      <td>0.0</td>\n",
       "      <td>0.0</td>\n",
       "      <td>0.0</td>\n",
       "      <td>3.0</td>\n",
       "      <td>0.0</td>\n",
       "      <td>0.0</td>\n",
       "      <td>0.0</td>\n",
       "      <td>0.0</td>\n",
       "    </tr>\n",
       "    <tr>\n",
       "      <th>8086</th>\n",
       "      <td>841.0</td>\n",
       "      <td>175.0</td>\n",
       "      <td>139.0</td>\n",
       "      <td>54.0</td>\n",
       "      <td>12.0</td>\n",
       "      <td>275.0</td>\n",
       "      <td>256.0</td>\n",
       "      <td>0.0</td>\n",
       "      <td>0.0</td>\n",
       "      <td>0.0</td>\n",
       "    </tr>\n",
       "    <tr>\n",
       "      <th>...</th>\n",
       "      <td>...</td>\n",
       "      <td>...</td>\n",
       "      <td>...</td>\n",
       "      <td>...</td>\n",
       "      <td>...</td>\n",
       "      <td>...</td>\n",
       "      <td>...</td>\n",
       "      <td>...</td>\n",
       "      <td>...</td>\n",
       "      <td>...</td>\n",
       "    </tr>\n",
       "    <tr>\n",
       "      <th>61625</th>\n",
       "      <td>555.0</td>\n",
       "      <td>561.0</td>\n",
       "      <td>574.0</td>\n",
       "      <td>333.0</td>\n",
       "      <td>10.0</td>\n",
       "      <td>343.0</td>\n",
       "      <td>776.0</td>\n",
       "      <td>1.0</td>\n",
       "      <td>1.0</td>\n",
       "      <td>0.0</td>\n",
       "    </tr>\n",
       "    <tr>\n",
       "      <th>61631</th>\n",
       "      <td>0.0</td>\n",
       "      <td>452.0</td>\n",
       "      <td>33.0</td>\n",
       "      <td>0.0</td>\n",
       "      <td>8.0</td>\n",
       "      <td>213.0</td>\n",
       "      <td>88.0</td>\n",
       "      <td>0.0</td>\n",
       "      <td>0.0</td>\n",
       "      <td>0.0</td>\n",
       "    </tr>\n",
       "    <tr>\n",
       "      <th>61640</th>\n",
       "      <td>61.0</td>\n",
       "      <td>16.0</td>\n",
       "      <td>8.0</td>\n",
       "      <td>0.0</td>\n",
       "      <td>0.0</td>\n",
       "      <td>24.0</td>\n",
       "      <td>40.0</td>\n",
       "      <td>0.0</td>\n",
       "      <td>0.0</td>\n",
       "      <td>0.0</td>\n",
       "    </tr>\n",
       "    <tr>\n",
       "      <th>61643</th>\n",
       "      <td>44.0</td>\n",
       "      <td>272.0</td>\n",
       "      <td>30.0</td>\n",
       "      <td>11.0</td>\n",
       "      <td>1.0</td>\n",
       "      <td>70.0</td>\n",
       "      <td>21.0</td>\n",
       "      <td>0.0</td>\n",
       "      <td>0.0</td>\n",
       "      <td>0.0</td>\n",
       "    </tr>\n",
       "    <tr>\n",
       "      <th>61661</th>\n",
       "      <td>0.0</td>\n",
       "      <td>0.0</td>\n",
       "      <td>72.0</td>\n",
       "      <td>0.0</td>\n",
       "      <td>15.0</td>\n",
       "      <td>0.0</td>\n",
       "      <td>0.0</td>\n",
       "      <td>0.0</td>\n",
       "      <td>0.0</td>\n",
       "      <td>0.0</td>\n",
       "    </tr>\n",
       "  </tbody>\n",
       "</table>\n",
       "<p>922 rows × 10 columns</p>\n",
       "</div>"
      ],
      "text/plain": [
       "productId      180    182    185    191   211    214    216  275  282  526\n",
       "customer_id                                                               \n",
       "7927          15.0   76.0   42.0  108.0   1.0   85.0   51.0  0.0  0.0  0.0\n",
       "7952           6.0    0.0   13.0    1.0   4.0   19.0    9.0  0.0  0.0  0.0\n",
       "8037           0.0    0.0    2.0    8.0   3.0   22.0    6.0  0.0  0.0  0.0\n",
       "8079           0.0    0.0    0.0    0.0   0.0    3.0    0.0  0.0  0.0  0.0\n",
       "8086         841.0  175.0  139.0   54.0  12.0  275.0  256.0  0.0  0.0  0.0\n",
       "...            ...    ...    ...    ...   ...    ...    ...  ...  ...  ...\n",
       "61625        555.0  561.0  574.0  333.0  10.0  343.0  776.0  1.0  1.0  0.0\n",
       "61631          0.0  452.0   33.0    0.0   8.0  213.0   88.0  0.0  0.0  0.0\n",
       "61640         61.0   16.0    8.0    0.0   0.0   24.0   40.0  0.0  0.0  0.0\n",
       "61643         44.0  272.0   30.0   11.0   1.0   70.0   21.0  0.0  0.0  0.0\n",
       "61661          0.0    0.0   72.0    0.0  15.0    0.0    0.0  0.0  0.0  0.0\n",
       "\n",
       "[922 rows x 10 columns]"
      ]
     },
     "execution_count": 44,
     "metadata": {},
     "output_type": "execute_result"
    }
   ],
   "source": [
    "# Substituindo NaN por 0\n",
    "\n",
    "df_matrix[np.isnan(df_matrix)] = 0\n",
    "df_matrix = pd.DataFrame(df_matrix)\n",
    "df_matrix"
   ]
  },
  {
   "cell_type": "code",
   "execution_count": 51,
   "metadata": {},
   "outputs": [
    {
     "data": {
      "text/html": [
       "<div>\n",
       "<style scoped>\n",
       "    .dataframe tbody tr th:only-of-type {\n",
       "        vertical-align: middle;\n",
       "    }\n",
       "\n",
       "    .dataframe tbody tr th {\n",
       "        vertical-align: top;\n",
       "    }\n",
       "\n",
       "    .dataframe thead th {\n",
       "        text-align: right;\n",
       "    }\n",
       "</style>\n",
       "<table border=\"1\" class=\"dataframe\">\n",
       "  <thead>\n",
       "    <tr style=\"text-align: right;\">\n",
       "      <th>productId</th>\n",
       "      <th>180</th>\n",
       "      <th>182</th>\n",
       "      <th>185</th>\n",
       "      <th>191</th>\n",
       "      <th>211</th>\n",
       "      <th>214</th>\n",
       "      <th>216</th>\n",
       "      <th>275</th>\n",
       "      <th>282</th>\n",
       "      <th>526</th>\n",
       "    </tr>\n",
       "    <tr>\n",
       "      <th>customer_id</th>\n",
       "      <th></th>\n",
       "      <th></th>\n",
       "      <th></th>\n",
       "      <th></th>\n",
       "      <th></th>\n",
       "      <th></th>\n",
       "      <th></th>\n",
       "      <th></th>\n",
       "      <th></th>\n",
       "      <th></th>\n",
       "    </tr>\n",
       "  </thead>\n",
       "  <tbody>\n",
       "    <tr>\n",
       "      <th>7927</th>\n",
       "      <td>0.011538</td>\n",
       "      <td>0.082073</td>\n",
       "      <td>0.073171</td>\n",
       "      <td>0.143617</td>\n",
       "      <td>0.017241</td>\n",
       "      <td>0.096263</td>\n",
       "      <td>0.045133</td>\n",
       "      <td>0.000000</td>\n",
       "      <td>0.000000</td>\n",
       "      <td>0.0</td>\n",
       "    </tr>\n",
       "    <tr>\n",
       "      <th>7952</th>\n",
       "      <td>0.004615</td>\n",
       "      <td>0.000000</td>\n",
       "      <td>0.022648</td>\n",
       "      <td>0.001330</td>\n",
       "      <td>0.068966</td>\n",
       "      <td>0.021518</td>\n",
       "      <td>0.007965</td>\n",
       "      <td>0.000000</td>\n",
       "      <td>0.000000</td>\n",
       "      <td>0.0</td>\n",
       "    </tr>\n",
       "    <tr>\n",
       "      <th>8037</th>\n",
       "      <td>0.000000</td>\n",
       "      <td>0.000000</td>\n",
       "      <td>0.003484</td>\n",
       "      <td>0.010638</td>\n",
       "      <td>0.051724</td>\n",
       "      <td>0.024915</td>\n",
       "      <td>0.005310</td>\n",
       "      <td>0.000000</td>\n",
       "      <td>0.000000</td>\n",
       "      <td>0.0</td>\n",
       "    </tr>\n",
       "    <tr>\n",
       "      <th>8079</th>\n",
       "      <td>0.000000</td>\n",
       "      <td>0.000000</td>\n",
       "      <td>0.000000</td>\n",
       "      <td>0.000000</td>\n",
       "      <td>0.000000</td>\n",
       "      <td>0.003398</td>\n",
       "      <td>0.000000</td>\n",
       "      <td>0.000000</td>\n",
       "      <td>0.000000</td>\n",
       "      <td>0.0</td>\n",
       "    </tr>\n",
       "    <tr>\n",
       "      <th>8086</th>\n",
       "      <td>0.646923</td>\n",
       "      <td>0.188985</td>\n",
       "      <td>0.242160</td>\n",
       "      <td>0.071809</td>\n",
       "      <td>0.206897</td>\n",
       "      <td>0.311438</td>\n",
       "      <td>0.226549</td>\n",
       "      <td>0.000000</td>\n",
       "      <td>0.000000</td>\n",
       "      <td>0.0</td>\n",
       "    </tr>\n",
       "    <tr>\n",
       "      <th>...</th>\n",
       "      <td>...</td>\n",
       "      <td>...</td>\n",
       "      <td>...</td>\n",
       "      <td>...</td>\n",
       "      <td>...</td>\n",
       "      <td>...</td>\n",
       "      <td>...</td>\n",
       "      <td>...</td>\n",
       "      <td>...</td>\n",
       "      <td>...</td>\n",
       "    </tr>\n",
       "    <tr>\n",
       "      <th>61625</th>\n",
       "      <td>0.426923</td>\n",
       "      <td>0.605832</td>\n",
       "      <td>1.000000</td>\n",
       "      <td>0.442819</td>\n",
       "      <td>0.172414</td>\n",
       "      <td>0.388448</td>\n",
       "      <td>0.686726</td>\n",
       "      <td>0.028571</td>\n",
       "      <td>0.009709</td>\n",
       "      <td>0.0</td>\n",
       "    </tr>\n",
       "    <tr>\n",
       "      <th>61631</th>\n",
       "      <td>0.000000</td>\n",
       "      <td>0.488121</td>\n",
       "      <td>0.057491</td>\n",
       "      <td>0.000000</td>\n",
       "      <td>0.137931</td>\n",
       "      <td>0.241223</td>\n",
       "      <td>0.077876</td>\n",
       "      <td>0.000000</td>\n",
       "      <td>0.000000</td>\n",
       "      <td>0.0</td>\n",
       "    </tr>\n",
       "    <tr>\n",
       "      <th>61640</th>\n",
       "      <td>0.046923</td>\n",
       "      <td>0.017279</td>\n",
       "      <td>0.013937</td>\n",
       "      <td>0.000000</td>\n",
       "      <td>0.000000</td>\n",
       "      <td>0.027180</td>\n",
       "      <td>0.035398</td>\n",
       "      <td>0.000000</td>\n",
       "      <td>0.000000</td>\n",
       "      <td>0.0</td>\n",
       "    </tr>\n",
       "    <tr>\n",
       "      <th>61643</th>\n",
       "      <td>0.033846</td>\n",
       "      <td>0.293737</td>\n",
       "      <td>0.052265</td>\n",
       "      <td>0.014628</td>\n",
       "      <td>0.017241</td>\n",
       "      <td>0.079275</td>\n",
       "      <td>0.018584</td>\n",
       "      <td>0.000000</td>\n",
       "      <td>0.000000</td>\n",
       "      <td>0.0</td>\n",
       "    </tr>\n",
       "    <tr>\n",
       "      <th>61661</th>\n",
       "      <td>0.000000</td>\n",
       "      <td>0.000000</td>\n",
       "      <td>0.125436</td>\n",
       "      <td>0.000000</td>\n",
       "      <td>0.258621</td>\n",
       "      <td>0.000000</td>\n",
       "      <td>0.000000</td>\n",
       "      <td>0.000000</td>\n",
       "      <td>0.000000</td>\n",
       "      <td>0.0</td>\n",
       "    </tr>\n",
       "  </tbody>\n",
       "</table>\n",
       "<p>922 rows × 10 columns</p>\n",
       "</div>"
      ],
      "text/plain": [
       "productId         180       182       185       191       211       214  \\\n",
       "customer_id                                                               \n",
       "7927         0.011538  0.082073  0.073171  0.143617  0.017241  0.096263   \n",
       "7952         0.004615  0.000000  0.022648  0.001330  0.068966  0.021518   \n",
       "8037         0.000000  0.000000  0.003484  0.010638  0.051724  0.024915   \n",
       "8079         0.000000  0.000000  0.000000  0.000000  0.000000  0.003398   \n",
       "8086         0.646923  0.188985  0.242160  0.071809  0.206897  0.311438   \n",
       "...               ...       ...       ...       ...       ...       ...   \n",
       "61625        0.426923  0.605832  1.000000  0.442819  0.172414  0.388448   \n",
       "61631        0.000000  0.488121  0.057491  0.000000  0.137931  0.241223   \n",
       "61640        0.046923  0.017279  0.013937  0.000000  0.000000  0.027180   \n",
       "61643        0.033846  0.293737  0.052265  0.014628  0.017241  0.079275   \n",
       "61661        0.000000  0.000000  0.125436  0.000000  0.258621  0.000000   \n",
       "\n",
       "productId         216       275       282  526  \n",
       "customer_id                                     \n",
       "7927         0.045133  0.000000  0.000000  0.0  \n",
       "7952         0.007965  0.000000  0.000000  0.0  \n",
       "8037         0.005310  0.000000  0.000000  0.0  \n",
       "8079         0.000000  0.000000  0.000000  0.0  \n",
       "8086         0.226549  0.000000  0.000000  0.0  \n",
       "...               ...       ...       ...  ...  \n",
       "61625        0.686726  0.028571  0.009709  0.0  \n",
       "61631        0.077876  0.000000  0.000000  0.0  \n",
       "61640        0.035398  0.000000  0.000000  0.0  \n",
       "61643        0.018584  0.000000  0.000000  0.0  \n",
       "61661        0.000000  0.000000  0.000000  0.0  \n",
       "\n",
       "[922 rows x 10 columns]"
      ]
     },
     "execution_count": 51,
     "metadata": {},
     "output_type": "execute_result"
    }
   ],
   "source": [
    "# Normalizando o dataset\n",
    "\n",
    "df_matrix_norm = (df_matrix-df_matrix.min())/(df_matrix.max()-df_matrix.min())\n",
    "df_matrix_norm"
   ]
  },
  {
   "cell_type": "code",
   "execution_count": 57,
   "metadata": {},
   "outputs": [
    {
     "data": {
      "text/plain": [
       "array([[ 15.,  76.,  42., ...,   0.,   0.,   0.],\n",
       "       [  6.,   0.,  13., ...,   0.,   0.,   0.],\n",
       "       [  0.,   0.,   2., ...,   0.,   0.,   0.],\n",
       "       ...,\n",
       "       [ 61.,  16.,   8., ...,   0.,   0.,   0.],\n",
       "       [ 44., 272.,  30., ...,   0.,   0.,   0.],\n",
       "       [  0.,   0.,  72., ...,   0.,   0.,   0.]])"
      ]
     },
     "execution_count": 57,
     "metadata": {},
     "output_type": "execute_result"
    }
   ],
   "source": [
    "# Maxhine Learning\n",
    "X = df_matrix.iloc[:,:].values\n",
    "X"
   ]
  },
  {
   "cell_type": "code",
   "execution_count": 61,
   "metadata": {},
   "outputs": [
    {
     "data": {
      "text/plain": [
       "KMeans(algorithm='auto', copy_x=True, init='random', max_iter=300,\n",
       "    n_clusters=8, n_init=10, n_jobs=1, precompute_distances='auto',\n",
       "    random_state=None, tol=0.0001, verbose=0)"
      ]
     },
     "execution_count": 61,
     "metadata": {},
     "output_type": "execute_result"
    }
   ],
   "source": [
    "kmeans = KMeans(n_clusters = 8, init = 'random')\n",
    "kmeans.fit(X)"
   ]
  },
  {
   "cell_type": "code",
   "execution_count": 62,
   "metadata": {},
   "outputs": [
    {
     "data": {
      "text/plain": [
       "array([[ 6.11441441e+01,  2.10747748e+02,  9.79639640e+01,\n",
       "         6.51711712e+01,  7.26126126e+00,  1.81495495e+02,\n",
       "         1.83594595e+02,  2.16216216e-01,  2.36936937e+00,\n",
       "         1.95156391e-18],\n",
       "       [ 9.47750000e+02,  5.43250000e+02,  2.66375000e+02,\n",
       "         2.88500000e+02,  1.52500000e+01,  4.85875000e+02,\n",
       "         6.42125000e+02,  7.50000000e-01,  2.12500000e+00,\n",
       "         0.00000000e+00],\n",
       "       [ 1.03163065e+01,  1.36836935e+01,  8.11787819e+00,\n",
       "         7.64833006e+00,  7.66208251e-01,  1.74970530e+01,\n",
       "         1.91846758e+01,  3.53634578e-02,  4.04715128e-01,\n",
       "         9.10729825e-18],\n",
       "       [ 3.32411765e+01,  7.12588235e+01,  4.53352941e+01,\n",
       "         3.53588235e+01,  3.74705882e+00,  9.73000000e+01,\n",
       "         9.15470588e+01,  2.94117647e-01,  1.52352941e+00,\n",
       "        -1.30104261e-18],\n",
       "       [ 6.11464286e+02,  2.62357143e+02,  1.22321429e+02,\n",
       "         6.15000000e+01,  7.32142857e+00,  2.50928571e+02,\n",
       "         2.55250000e+02,  5.55111512e-17,  8.92857143e-01,\n",
       "         3.57142857e-02],\n",
       "       [ 2.60488889e+02,  1.02133333e+02,  4.47333333e+01,\n",
       "         3.44444444e+01,  4.62222222e+00,  1.00311111e+02,\n",
       "         1.00444444e+02,  1.33333333e-01,  1.82222222e+00,\n",
       "        -8.67361738e-19],\n",
       "       [ 1.63862069e+02,  2.10931034e+02,  1.67172414e+02,\n",
       "         1.05448276e+02,  1.17241379e+01,  4.57206897e+02,\n",
       "         3.72413793e+02,  4.48275862e-01,  6.93103448e+00,\n",
       "        -6.50521303e-19],\n",
       "       [ 1.00818182e+02,  5.22500000e+02,  1.75863636e+02,\n",
       "         1.49272727e+02,  1.26818182e+01,  2.79818182e+02,\n",
       "         4.30500000e+02,  1.36363636e-01,  3.90909091e+00,\n",
       "        -4.33680869e-19]])"
      ]
     },
     "execution_count": 62,
     "metadata": {},
     "output_type": "execute_result"
    }
   ],
   "source": [
    "kmeans.cluster_centers_"
   ]
  },
  {
   "cell_type": "code",
   "execution_count": 63,
   "metadata": {},
   "outputs": [
    {
     "data": {
      "text/plain": [
       "array([[ 348.87734626,   89.31086376,  142.89912276, ..., 1345.07331481,\n",
       "         606.34853871,  550.3661559 ],\n",
       "       [ 404.95346051,  148.72033063,   20.42297108, ..., 1452.40738852,\n",
       "         723.53194152,  659.96538209],\n",
       "       [ 410.57985505,  151.87874416,   23.86117013, ..., 1457.21545726,\n",
       "         726.2571104 ,  662.72672012],\n",
       "       ...,\n",
       "       [ 344.88720362,  119.54067817,   54.76612563, ..., 1397.32597803,\n",
       "         688.44911969,  624.59963621],\n",
       "       [ 347.36157138,  217.37699939,  265.71338965, ..., 1297.04223353,\n",
       "         525.15326372,  567.97808545],\n",
       "       [ 417.07882253,  165.37387064,   73.14423092, ..., 1456.23906767,\n",
       "         726.5731831 ,  668.06599391]])"
      ]
     },
     "execution_count": 63,
     "metadata": {},
     "output_type": "execute_result"
    }
   ],
   "source": [
    "distance = kmeans.fit_transform(X)\n",
    "distance"
   ]
  },
  {
   "cell_type": "code",
   "execution_count": 69,
   "metadata": {},
   "outputs": [
    {
     "data": {
      "text/plain": [
       "array([1, 2, 2, 2, 4, 3, 2, 2, 3, 1, 2, 2, 3, 2, 2, 1, 3, 3, 2, 2, 2, 3,\n",
       "       1, 2, 2, 2, 3, 1, 1, 1, 3, 2, 2, 2, 3, 1, 2, 1, 1, 3, 2, 2, 1, 2,\n",
       "       2, 3, 2, 3, 1, 3, 2, 7, 2, 3, 1, 2, 1, 1, 2, 2, 3, 2, 2, 3, 1, 1,\n",
       "       2, 2, 2, 2, 0, 2, 3, 1, 2, 2, 0, 2, 2, 2, 2, 1, 2, 1, 6, 1, 2, 2,\n",
       "       0, 1, 2, 2, 2, 1, 2, 2, 7, 1, 0, 1, 1, 2, 2, 2, 1, 2, 7, 2, 2, 2,\n",
       "       1, 2, 3, 2, 2, 2, 1, 2, 1, 6, 2, 2, 2, 0, 2, 2, 2, 2, 3, 1, 3, 3,\n",
       "       0, 2, 7, 2, 2, 2, 2, 2, 1, 2, 1, 3, 2, 3, 2, 2, 1, 2, 2, 2, 1, 2,\n",
       "       3, 2, 1, 2, 2, 2, 2, 3, 2, 1, 2, 2, 5, 2, 1, 3, 2, 3, 2, 1, 2, 1,\n",
       "       1, 2, 2, 2, 6, 2, 1, 2, 2, 2, 2, 2, 6, 1, 0, 2, 3, 1, 2, 2, 2, 2,\n",
       "       2, 1, 2, 1, 2, 2, 2, 2, 1, 2, 2, 1, 2, 2, 2, 5, 2, 2, 4, 2, 2, 2,\n",
       "       3, 2, 0, 2, 3, 3, 2, 1, 2, 1, 2, 2, 2, 1, 2, 2, 3, 1, 2, 6, 0, 2,\n",
       "       2, 2, 1, 1, 4, 3, 0, 2, 4, 1, 2, 0, 3, 2, 3, 2, 2, 3, 3, 2, 2, 3,\n",
       "       2, 2, 2, 2, 2, 2, 2, 2, 1, 2, 3, 2, 3, 1, 1, 2, 3, 2, 2, 2, 7, 2,\n",
       "       2, 1, 2, 2, 0, 2, 6, 2, 3, 1, 2, 2, 1, 1, 5, 2, 1, 7, 3, 3, 2, 2,\n",
       "       2, 2, 0, 2, 2, 2, 3, 2, 1, 2, 2, 6, 2, 2, 4, 2, 2, 2, 2, 2, 1, 3,\n",
       "       0, 2, 2, 3, 2, 1, 2, 2, 3, 2, 2, 2, 2, 0, 2, 1, 2, 6, 2, 2, 2, 1,\n",
       "       2, 2, 6, 1, 2, 4, 2, 2, 2, 2, 2, 2, 2, 2, 4, 1, 2, 3, 2, 3, 1, 2,\n",
       "       2, 3, 2, 2, 2, 2, 2, 1, 2, 2, 2, 2, 1, 3, 2, 2, 0, 1, 2, 2, 3, 3,\n",
       "       2, 1, 1, 3, 2, 3, 3, 1, 2, 2, 2, 2, 2, 7, 2, 2, 2, 2, 2, 2, 3, 2,\n",
       "       2, 4, 7, 4, 1, 2, 2, 3, 1, 0, 2, 2, 2, 0, 2, 2, 2, 1, 2, 2, 2, 2,\n",
       "       2, 1, 0, 1, 2, 1, 2, 1, 2, 1, 2, 3, 2, 1, 2, 0, 1, 1, 2, 2, 2, 2,\n",
       "       2, 3, 2, 1, 2, 3, 0, 2, 2, 2, 3, 2, 1, 3, 1, 2, 3, 7, 2, 2, 2, 2,\n",
       "       1, 0, 1, 0, 2, 2, 3, 2, 1, 3, 1, 1, 3, 2, 3, 2, 2, 2, 1, 3, 2, 3,\n",
       "       1, 2, 0, 7, 7, 2, 2, 4, 5, 3, 7, 0, 3, 2, 1, 2, 2, 2, 1, 2, 1, 2,\n",
       "       2, 1, 2, 2, 1, 2, 1, 3, 2, 1, 7, 6, 6, 3, 1, 4, 2, 1, 2, 6, 2, 1,\n",
       "       2, 2, 1, 2, 2, 2, 2, 2, 2, 7, 2, 2, 2, 2, 2, 1, 2, 3, 2, 2, 1, 2,\n",
       "       2, 2, 2, 2, 2, 2, 3, 2, 2, 2, 2, 2, 2, 2, 2, 1, 2, 2, 2, 1, 2, 2,\n",
       "       2, 2, 2, 3, 2, 2, 2, 2, 2, 2, 7, 0, 1, 6, 2, 2, 6, 3, 0, 2, 1, 2,\n",
       "       2, 2, 0, 1, 3, 0, 1, 0, 3, 3, 2, 2, 1, 2, 2, 2, 2, 3, 2, 2, 1, 2,\n",
       "       2, 1, 2, 2, 3, 2, 1, 2, 2, 2, 2, 2, 2, 2, 2, 7, 2, 0, 2, 2, 2, 2,\n",
       "       2, 4, 2, 6, 2, 7, 2, 3, 4, 2, 2, 2, 2, 2, 2, 2, 2, 7, 2, 2, 2, 2,\n",
       "       2, 2, 2, 6, 1, 2, 2, 2, 2, 2, 2, 2, 2, 2, 2, 1, 2, 1, 2, 2, 2, 2,\n",
       "       1, 1, 2, 2, 2, 2, 0, 2, 2, 2, 1, 4, 2, 1, 3, 1, 2, 2, 2, 3, 2, 0,\n",
       "       3, 4, 4, 6, 2, 1, 5, 7, 6, 1, 1, 6, 1, 1, 2, 2, 1, 2, 1, 2, 7, 2,\n",
       "       2, 2, 2, 2, 2, 3, 1, 1, 2, 1, 2, 2, 2, 2, 1, 0, 3, 2, 1, 2, 1, 2,\n",
       "       3, 3, 2, 1, 3, 2, 4, 2, 2, 2, 2, 7, 2, 6, 2, 1, 2, 1, 0, 2, 2, 3,\n",
       "       2, 3, 2, 2, 1, 3, 7, 2, 2, 1, 2, 2, 2, 3, 2, 2, 7, 2, 1, 1, 1, 2,\n",
       "       2, 1, 6, 1, 2, 2, 2, 2, 2, 2, 2, 2, 2, 1, 0, 2, 1, 2, 1, 2, 2, 7,\n",
       "       2, 2, 1, 0, 6, 2, 2, 2, 7, 2, 1, 1, 1, 2, 2, 1, 3, 3, 6, 2, 2, 0,\n",
       "       2, 3, 1, 2, 3, 2, 1, 7, 7, 0, 6, 1, 2, 3, 2, 2, 2, 2, 1, 3, 2, 2,\n",
       "       2, 2, 1, 2, 2, 2, 1, 7, 3, 2, 3, 0, 1, 2, 2, 2, 1, 7, 2, 7, 2, 1,\n",
       "       2, 3, 6, 4, 2, 2, 2, 0, 4, 1, 2, 1, 1, 2, 3, 5, 3, 2, 1, 2],\n",
       "      dtype=int32)"
      ]
     },
     "execution_count": 69,
     "metadata": {},
     "output_type": "execute_result"
    }
   ],
   "source": [
    "labels = kmeans.labels_\n",
    "labels"
   ]
  },
  {
   "cell_type": "code",
   "execution_count": 72,
   "metadata": {},
   "outputs": [
    {
     "data": {
      "text/plain": [
       "array([1, 5, 2], dtype=int32)"
      ]
     },
     "execution_count": 72,
     "metadata": {},
     "output_type": "execute_result"
    }
   ],
   "source": [
    "# Predizendo o cluster\n",
    "\n",
    "data = [[15.0,76.0,42.0,108.0,1.0,85.0,51.0,0.0,0.0,0.0],[555.0,561.0,574.0,333.0,10.0,343.0,776.0,1.0,1.0,0.0],[0.000000,0.000000,0.003484,0.010638,0.051724,0.024915,0.005310,0.000000,0.000000,0.0]]\n",
    "kmeans.predict(data)"
   ]
  },
  {
   "cell_type": "code",
   "execution_count": 75,
   "metadata": {},
   "outputs": [
    {
     "data": {
      "text/html": [
       "<div>\n",
       "<style scoped>\n",
       "    .dataframe tbody tr th:only-of-type {\n",
       "        vertical-align: middle;\n",
       "    }\n",
       "\n",
       "    .dataframe tbody tr th {\n",
       "        vertical-align: top;\n",
       "    }\n",
       "\n",
       "    .dataframe thead th {\n",
       "        text-align: right;\n",
       "    }\n",
       "</style>\n",
       "<table border=\"1\" class=\"dataframe\">\n",
       "  <thead>\n",
       "    <tr style=\"text-align: right;\">\n",
       "      <th>productId</th>\n",
       "      <th>180</th>\n",
       "      <th>182</th>\n",
       "      <th>185</th>\n",
       "      <th>191</th>\n",
       "      <th>211</th>\n",
       "      <th>214</th>\n",
       "      <th>216</th>\n",
       "      <th>275</th>\n",
       "      <th>282</th>\n",
       "      <th>526</th>\n",
       "      <th>Cluster</th>\n",
       "    </tr>\n",
       "    <tr>\n",
       "      <th>customer_id</th>\n",
       "      <th></th>\n",
       "      <th></th>\n",
       "      <th></th>\n",
       "      <th></th>\n",
       "      <th></th>\n",
       "      <th></th>\n",
       "      <th></th>\n",
       "      <th></th>\n",
       "      <th></th>\n",
       "      <th></th>\n",
       "      <th></th>\n",
       "    </tr>\n",
       "  </thead>\n",
       "  <tbody>\n",
       "    <tr>\n",
       "      <th>7927</th>\n",
       "      <td>15.0</td>\n",
       "      <td>76.0</td>\n",
       "      <td>42.0</td>\n",
       "      <td>108.0</td>\n",
       "      <td>1.0</td>\n",
       "      <td>85.0</td>\n",
       "      <td>51.0</td>\n",
       "      <td>0.0</td>\n",
       "      <td>0.0</td>\n",
       "      <td>0.0</td>\n",
       "      <td>6</td>\n",
       "    </tr>\n",
       "    <tr>\n",
       "      <th>7952</th>\n",
       "      <td>6.0</td>\n",
       "      <td>0.0</td>\n",
       "      <td>13.0</td>\n",
       "      <td>1.0</td>\n",
       "      <td>4.0</td>\n",
       "      <td>19.0</td>\n",
       "      <td>9.0</td>\n",
       "      <td>0.0</td>\n",
       "      <td>0.0</td>\n",
       "      <td>0.0</td>\n",
       "      <td>1</td>\n",
       "    </tr>\n",
       "    <tr>\n",
       "      <th>8037</th>\n",
       "      <td>0.0</td>\n",
       "      <td>0.0</td>\n",
       "      <td>2.0</td>\n",
       "      <td>8.0</td>\n",
       "      <td>3.0</td>\n",
       "      <td>22.0</td>\n",
       "      <td>6.0</td>\n",
       "      <td>0.0</td>\n",
       "      <td>0.0</td>\n",
       "      <td>0.0</td>\n",
       "      <td>1</td>\n",
       "    </tr>\n",
       "    <tr>\n",
       "      <th>8079</th>\n",
       "      <td>0.0</td>\n",
       "      <td>0.0</td>\n",
       "      <td>0.0</td>\n",
       "      <td>0.0</td>\n",
       "      <td>0.0</td>\n",
       "      <td>3.0</td>\n",
       "      <td>0.0</td>\n",
       "      <td>0.0</td>\n",
       "      <td>0.0</td>\n",
       "      <td>0.0</td>\n",
       "      <td>1</td>\n",
       "    </tr>\n",
       "    <tr>\n",
       "      <th>8086</th>\n",
       "      <td>841.0</td>\n",
       "      <td>175.0</td>\n",
       "      <td>139.0</td>\n",
       "      <td>54.0</td>\n",
       "      <td>12.0</td>\n",
       "      <td>275.0</td>\n",
       "      <td>256.0</td>\n",
       "      <td>0.0</td>\n",
       "      <td>0.0</td>\n",
       "      <td>0.0</td>\n",
       "      <td>7</td>\n",
       "    </tr>\n",
       "    <tr>\n",
       "      <th>...</th>\n",
       "      <td>...</td>\n",
       "      <td>...</td>\n",
       "      <td>...</td>\n",
       "      <td>...</td>\n",
       "      <td>...</td>\n",
       "      <td>...</td>\n",
       "      <td>...</td>\n",
       "      <td>...</td>\n",
       "      <td>...</td>\n",
       "      <td>...</td>\n",
       "      <td>...</td>\n",
       "    </tr>\n",
       "    <tr>\n",
       "      <th>61625</th>\n",
       "      <td>555.0</td>\n",
       "      <td>561.0</td>\n",
       "      <td>574.0</td>\n",
       "      <td>333.0</td>\n",
       "      <td>10.0</td>\n",
       "      <td>343.0</td>\n",
       "      <td>776.0</td>\n",
       "      <td>1.0</td>\n",
       "      <td>1.0</td>\n",
       "      <td>0.0</td>\n",
       "      <td>0</td>\n",
       "    </tr>\n",
       "    <tr>\n",
       "      <th>61631</th>\n",
       "      <td>0.0</td>\n",
       "      <td>452.0</td>\n",
       "      <td>33.0</td>\n",
       "      <td>0.0</td>\n",
       "      <td>8.0</td>\n",
       "      <td>213.0</td>\n",
       "      <td>88.0</td>\n",
       "      <td>0.0</td>\n",
       "      <td>0.0</td>\n",
       "      <td>0.0</td>\n",
       "      <td>5</td>\n",
       "    </tr>\n",
       "    <tr>\n",
       "      <th>61640</th>\n",
       "      <td>61.0</td>\n",
       "      <td>16.0</td>\n",
       "      <td>8.0</td>\n",
       "      <td>0.0</td>\n",
       "      <td>0.0</td>\n",
       "      <td>24.0</td>\n",
       "      <td>40.0</td>\n",
       "      <td>0.0</td>\n",
       "      <td>0.0</td>\n",
       "      <td>0.0</td>\n",
       "      <td>1</td>\n",
       "    </tr>\n",
       "    <tr>\n",
       "      <th>61643</th>\n",
       "      <td>44.0</td>\n",
       "      <td>272.0</td>\n",
       "      <td>30.0</td>\n",
       "      <td>11.0</td>\n",
       "      <td>1.0</td>\n",
       "      <td>70.0</td>\n",
       "      <td>21.0</td>\n",
       "      <td>0.0</td>\n",
       "      <td>0.0</td>\n",
       "      <td>0.0</td>\n",
       "      <td>5</td>\n",
       "    </tr>\n",
       "    <tr>\n",
       "      <th>61661</th>\n",
       "      <td>0.0</td>\n",
       "      <td>0.0</td>\n",
       "      <td>72.0</td>\n",
       "      <td>0.0</td>\n",
       "      <td>15.0</td>\n",
       "      <td>0.0</td>\n",
       "      <td>0.0</td>\n",
       "      <td>0.0</td>\n",
       "      <td>0.0</td>\n",
       "      <td>0.0</td>\n",
       "      <td>1</td>\n",
       "    </tr>\n",
       "  </tbody>\n",
       "</table>\n",
       "<p>922 rows × 11 columns</p>\n",
       "</div>"
      ],
      "text/plain": [
       "productId      180    182    185    191   211    214    216  275  282  526  \\\n",
       "customer_id                                                                  \n",
       "7927          15.0   76.0   42.0  108.0   1.0   85.0   51.0  0.0  0.0  0.0   \n",
       "7952           6.0    0.0   13.0    1.0   4.0   19.0    9.0  0.0  0.0  0.0   \n",
       "8037           0.0    0.0    2.0    8.0   3.0   22.0    6.0  0.0  0.0  0.0   \n",
       "8079           0.0    0.0    0.0    0.0   0.0    3.0    0.0  0.0  0.0  0.0   \n",
       "8086         841.0  175.0  139.0   54.0  12.0  275.0  256.0  0.0  0.0  0.0   \n",
       "...            ...    ...    ...    ...   ...    ...    ...  ...  ...  ...   \n",
       "61625        555.0  561.0  574.0  333.0  10.0  343.0  776.0  1.0  1.0  0.0   \n",
       "61631          0.0  452.0   33.0    0.0   8.0  213.0   88.0  0.0  0.0  0.0   \n",
       "61640         61.0   16.0    8.0    0.0   0.0   24.0   40.0  0.0  0.0  0.0   \n",
       "61643         44.0  272.0   30.0   11.0   1.0   70.0   21.0  0.0  0.0  0.0   \n",
       "61661          0.0    0.0   72.0    0.0  15.0    0.0    0.0  0.0  0.0  0.0   \n",
       "\n",
       "productId    Cluster  \n",
       "customer_id           \n",
       "7927               6  \n",
       "7952               1  \n",
       "8037               1  \n",
       "8079               1  \n",
       "8086               7  \n",
       "...              ...  \n",
       "61625              0  \n",
       "61631              5  \n",
       "61640              1  \n",
       "61643              5  \n",
       "61661              1  \n",
       "\n",
       "[922 rows x 11 columns]"
      ]
     },
     "execution_count": 75,
     "metadata": {},
     "output_type": "execute_result"
    }
   ],
   "source": [
    "# O fit_predict retorna os rotulos dos clusteres\n",
    "df_matrix[\"Cluster\"] = kmeans.fit_predict(X)\n",
    "df_matrix"
   ]
  },
  {
   "cell_type": "code",
   "execution_count": null,
   "metadata": {
    "collapsed": true
   },
   "outputs": [],
   "source": []
  },
  {
   "cell_type": "code",
   "execution_count": null,
   "metadata": {
    "collapsed": true
   },
   "outputs": [],
   "source": []
  },
  {
   "cell_type": "code",
   "execution_count": 65,
   "metadata": {},
   "outputs": [
    {
     "data": {
      "image/png": "[encoded data removed]",
      "text/plain": [
       "<Figure size 432x288 with 1 Axes>"
      ]
     },
     "metadata": {},
     "output_type": "display_data"
    }
   ],
   "source": [
    "plt.scatter(X[:, 0], X[:,1], s = 100, c = kmeans.labels_)\n",
    "plt.scatter(kmeans.cluster_centers_[:, 0], kmeans.cluster_centers_[:, 1], s = 300, c = 'red',label = 'Centroids')\n",
    "plt.title('Iris Clusters and Centroids')\n",
    "plt.xlabel('SepalLength')\n",
    "plt.ylabel('SepalWidth')\n",
    "plt.legend()\n",
    "\n",
    "plt.show()"
   ]
  },
  {
   "cell_type": "code",
   "execution_count": null,
   "metadata": {
    "collapsed": true
   },
   "outputs": [],
   "source": []
  }
 ],
 "metadata": {
  "kernelspec": {
   "display_name": "Python 3",
   "language": "python",
   "name": "python3"
  },
  "language_info": {
   "codemirror_mode": {
    "name": "ipython",
    "version": 3
   },
   "file_extension": ".py",
   "mimetype": "text/x-python",
   "name": "python",
   "nbconvert_exporter": "python",
   "pygments_lexer": "ipython3",
   "version": "3.6.3"
  }
 },
 "nbformat": 4,
 "nbformat_minor": 2
}
